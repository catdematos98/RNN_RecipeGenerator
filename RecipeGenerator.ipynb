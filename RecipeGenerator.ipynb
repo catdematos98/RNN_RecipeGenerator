{
 "cells": [
  {
   "attachments": {
    "image.png": {
     "image/png": "[encoded data removed]"
    }
   },
   "cell_type": "markdown",
   "metadata": {},
   "source": [
    "**AI for Generating Recipes**\n",
    "\n",
    "**What?**\n",
    "\n",
    "With the closing of many restaurants during the pandemic I’ve spent hours searching various websites looking for the next recipe to cook in my kitchen. While I wait for my water to boil, I would watch YouTube videos of people using AI to create original poems, so I thought - why not recipes?! For my project this semester, I would like to create an AI that generates recipes given a list of ingredients I have in my kitchen. \n",
    "\n",
    "**How?**\n",
    "\n",
    "I did not start this project by myself, but followed a tutorial by Oleksii Trekhleb, a Software Engineer at Uber. This is my version for a “Hello World”. The project includes a Long Short-Term Memory (LSTM) Recurrent Neural Network that is trained with over 250,000+ recipes. (I chose a different database than the one Oleksii uses with 100,000+ recipes). \n",
    "\n",
    "RNN’s are most commonly used for natural language processing because they can store some context of the sequence in internal memory. This becomes useful in our use case: if the first word of the sequence was *Preheat*, the RNN may suggest the next word to be oven (instead of *microwave*) because *Preheat* is already inside the internal memory and we’ve learned through training the common context of this word. This can also be done on a character-level, which is what I used for my project.\n",
    "\n",
    "LSTM is used because we want to understand as much of the previous context in order to suggest the next word or character to use. A neural network’s ability to understand long range dependencies in data is important for sentence structures. \n",
    "I converted my Pandas dataset to TensorFlow and used TensorFlow’s Keras API to build my LSTM RNN model. After cleaning my dataset, tokenizing by characters, padding my sequences, and building my Sequential Embedded LSTM model, I  then split my dataset into 64 batches, and trained my model into 20 epoches, with 200 steps for each epoch. We calculated loss with our training data using a Keras optimizer and Sparse Categorical Cross Entropy. It took about 3 days to train on my personal computer and here is the improvement we got to:\n",
    "![image.png](attachment:image.png)\n",
    "\n",
    "Here is a generated Recipe:\n",
    "\n",
    ">Attempt: \"B\" + 1.0\n",
    ">-----------------------------------\n",
    ">📗 Bjuice cookies\n",
    ">\n",
    ">🥕\n",
    ">- butter\n",
    ">- eggs\n",
    ">- shulk wine vinegar\n",
    ">- egg\n",
    ">- olive oil\n",
    ">- semi-sweet peas\n",
    ">- chocolate sauce\n",
    ">- frozen chopped pickling salt\n",
    "\n",
    ">📝\n",
    ">- place bread fuffining pieces\n",
    ">- in a small bowl \n",
    ">- combine butter in large pie pan \n",
    ">- alternately away from pan\n",
    ">- cover with laffle mixture in each prepare\n",
    ">- remove from then sides and serve immediately\n",
    ">- mix the soup in the bruscheets with nonstick cooking spray\n",
    ">- microwave for 12 minutes or until softened\n",
    ">- dein your meat\n",
    "\n",
    "**What’s Next:**\n",
    "\n",
    "Our model needs longer time to train, as seen by the poor grammar and English in our example recipes. Next, I hope to:\n",
    "1. Train the model longer\n",
    "2. Eliminate duplicates in the ingredients section\n",
    "3. Connect the Ingredients to the Instructions: ensure that the items mentioned in the instructions section are the only items in the ingredients list. \n",
    "\n",
    "\n",
    "Tuturial: https://www.kdnuggets.com/2020/07/generating-cooking-recipes-using-tensorflow.html\n",
    " \n",
    "Dataset: \n",
    "Inlcudes 250,000+ recipes with indredient porportions\n",
    "https://www.kaggle.com/shuyangli94/food-com-recipes-and-user-interactions?select=RAW_recipes.csv"
   ]
  },
  {
   "cell_type": "code",
   "execution_count": 1,
   "metadata": {},
   "outputs": [],
   "source": [
    "# Packages for training the model and working with the dataset.\n",
    "import tensorflow as tf\n",
    "import pandas as pd\n",
    "import matplotlib.pyplot as plt\n",
    "import numpy as np\n",
    "import json\n",
    "\n",
    "# Utility/helper packages.\n",
    "import platform\n",
    "import time\n",
    "import pathlib\n",
    "import os\n"
   ]
  },
  {
   "cell_type": "code",
   "execution_count": 2,
   "metadata": {},
   "outputs": [
    {
     "data": {
      "text/html": [
       "<div>\n",
       "<style scoped>\n",
       "    .dataframe tbody tr th:only-of-type {\n",
       "        vertical-align: middle;\n",
       "    }\n",
       "\n",
       "    .dataframe tbody tr th {\n",
       "        vertical-align: top;\n",
       "    }\n",
       "\n",
       "    .dataframe thead th {\n",
       "        text-align: right;\n",
       "    }\n",
       "</style>\n",
       "<table border=\"1\" class=\"dataframe\">\n",
       "  <thead>\n",
       "    <tr style=\"text-align: right;\">\n",
       "      <th></th>\n",
       "      <th>name</th>\n",
       "      <th>id</th>\n",
       "      <th>minutes</th>\n",
       "      <th>contributor_id</th>\n",
       "      <th>submitted</th>\n",
       "      <th>tags</th>\n",
       "      <th>nutrition</th>\n",
       "      <th>n_steps</th>\n",
       "      <th>steps</th>\n",
       "      <th>description</th>\n",
       "      <th>ingredients</th>\n",
       "      <th>n_ingredients</th>\n",
       "    </tr>\n",
       "  </thead>\n",
       "  <tbody>\n",
       "    <tr>\n",
       "      <th>0</th>\n",
       "      <td>arriba   baked winter squash mexican style</td>\n",
       "      <td>137739</td>\n",
       "      <td>55</td>\n",
       "      <td>47892</td>\n",
       "      <td>2005-09-16</td>\n",
       "      <td>['60-minutes-or-less', 'time-to-make', 'course...</td>\n",
       "      <td>[51.5, 0.0, 13.0, 0.0, 2.0, 0.0, 4.0]</td>\n",
       "      <td>11</td>\n",
       "      <td>['make a choice and proceed with recipe', 'dep...</td>\n",
       "      <td>autumn is my favorite time of year to cook! th...</td>\n",
       "      <td>['winter squash', 'mexican seasoning', 'mixed ...</td>\n",
       "      <td>7</td>\n",
       "    </tr>\n",
       "    <tr>\n",
       "      <th>1</th>\n",
       "      <td>a bit different  breakfast pizza</td>\n",
       "      <td>31490</td>\n",
       "      <td>30</td>\n",
       "      <td>26278</td>\n",
       "      <td>2002-06-17</td>\n",
       "      <td>['30-minutes-or-less', 'time-to-make', 'course...</td>\n",
       "      <td>[173.4, 18.0, 0.0, 17.0, 22.0, 35.0, 1.0]</td>\n",
       "      <td>9</td>\n",
       "      <td>['preheat oven to 425 degrees f', 'press dough...</td>\n",
       "      <td>this recipe calls for the crust to be prebaked...</td>\n",
       "      <td>['prepared pizza crust', 'sausage patty', 'egg...</td>\n",
       "      <td>6</td>\n",
       "    </tr>\n",
       "    <tr>\n",
       "      <th>2</th>\n",
       "      <td>all in the kitchen  chili</td>\n",
       "      <td>112140</td>\n",
       "      <td>130</td>\n",
       "      <td>196586</td>\n",
       "      <td>2005-02-25</td>\n",
       "      <td>['time-to-make', 'course', 'preparation', 'mai...</td>\n",
       "      <td>[269.8, 22.0, 32.0, 48.0, 39.0, 27.0, 5.0]</td>\n",
       "      <td>6</td>\n",
       "      <td>['brown ground beef in large pot', 'add choppe...</td>\n",
       "      <td>this modified version of 'mom's' chili was a h...</td>\n",
       "      <td>['ground beef', 'yellow onions', 'diced tomato...</td>\n",
       "      <td>13</td>\n",
       "    </tr>\n",
       "    <tr>\n",
       "      <th>3</th>\n",
       "      <td>alouette  potatoes</td>\n",
       "      <td>59389</td>\n",
       "      <td>45</td>\n",
       "      <td>68585</td>\n",
       "      <td>2003-04-14</td>\n",
       "      <td>['60-minutes-or-less', 'time-to-make', 'course...</td>\n",
       "      <td>[368.1, 17.0, 10.0, 2.0, 14.0, 8.0, 20.0]</td>\n",
       "      <td>11</td>\n",
       "      <td>['place potatoes in a large pot of lightly sal...</td>\n",
       "      <td>this is a super easy, great tasting, make ahea...</td>\n",
       "      <td>['spreadable cheese with garlic and herbs', 'n...</td>\n",
       "      <td>11</td>\n",
       "    </tr>\n",
       "    <tr>\n",
       "      <th>4</th>\n",
       "      <td>amish  tomato ketchup  for canning</td>\n",
       "      <td>44061</td>\n",
       "      <td>190</td>\n",
       "      <td>41706</td>\n",
       "      <td>2002-10-25</td>\n",
       "      <td>['weeknight', 'time-to-make', 'course', 'main-...</td>\n",
       "      <td>[352.9, 1.0, 337.0, 23.0, 3.0, 0.0, 28.0]</td>\n",
       "      <td>5</td>\n",
       "      <td>['mix all ingredients&amp; boil for 2 1 / 2 hours ...</td>\n",
       "      <td>my dh's amish mother raised him on this recipe...</td>\n",
       "      <td>['tomato juice', 'apple cider vinegar', 'sugar...</td>\n",
       "      <td>8</td>\n",
       "    </tr>\n",
       "  </tbody>\n",
       "</table>\n",
       "</div>"
      ],
      "text/plain": [
       "                                         name      id  minutes  \\\n",
       "0  arriba   baked winter squash mexican style  137739       55   \n",
       "1            a bit different  breakfast pizza   31490       30   \n",
       "2                   all in the kitchen  chili  112140      130   \n",
       "3                          alouette  potatoes   59389       45   \n",
       "4          amish  tomato ketchup  for canning   44061      190   \n",
       "\n",
       "   contributor_id   submitted  \\\n",
       "0           47892  2005-09-16   \n",
       "1           26278  2002-06-17   \n",
       "2          196586  2005-02-25   \n",
       "3           68585  2003-04-14   \n",
       "4           41706  2002-10-25   \n",
       "\n",
       "                                                tags  \\\n",
       "0  ['60-minutes-or-less', 'time-to-make', 'course...   \n",
       "1  ['30-minutes-or-less', 'time-to-make', 'course...   \n",
       "2  ['time-to-make', 'course', 'preparation', 'mai...   \n",
       "3  ['60-minutes-or-less', 'time-to-make', 'course...   \n",
       "4  ['weeknight', 'time-to-make', 'course', 'main-...   \n",
       "\n",
       "                                    nutrition  n_steps  \\\n",
       "0       [51.5, 0.0, 13.0, 0.0, 2.0, 0.0, 4.0]       11   \n",
       "1   [173.4, 18.0, 0.0, 17.0, 22.0, 35.0, 1.0]        9   \n",
       "2  [269.8, 22.0, 32.0, 48.0, 39.0, 27.0, 5.0]        6   \n",
       "3   [368.1, 17.0, 10.0, 2.0, 14.0, 8.0, 20.0]       11   \n",
       "4   [352.9, 1.0, 337.0, 23.0, 3.0, 0.0, 28.0]        5   \n",
       "\n",
       "                                               steps  \\\n",
       "0  ['make a choice and proceed with recipe', 'dep...   \n",
       "1  ['preheat oven to 425 degrees f', 'press dough...   \n",
       "2  ['brown ground beef in large pot', 'add choppe...   \n",
       "3  ['place potatoes in a large pot of lightly sal...   \n",
       "4  ['mix all ingredients& boil for 2 1 / 2 hours ...   \n",
       "\n",
       "                                         description  \\\n",
       "0  autumn is my favorite time of year to cook! th...   \n",
       "1  this recipe calls for the crust to be prebaked...   \n",
       "2  this modified version of 'mom's' chili was a h...   \n",
       "3  this is a super easy, great tasting, make ahea...   \n",
       "4  my dh's amish mother raised him on this recipe...   \n",
       "\n",
       "                                         ingredients  n_ingredients  \n",
       "0  ['winter squash', 'mexican seasoning', 'mixed ...              7  \n",
       "1  ['prepared pizza crust', 'sausage patty', 'egg...              6  \n",
       "2  ['ground beef', 'yellow onions', 'diced tomato...             13  \n",
       "3  ['spreadable cheese with garlic and herbs', 'n...             11  \n",
       "4  ['tomato juice', 'apple cider vinegar', 'sugar...              8  "
      ]
     },
     "execution_count": 2,
     "metadata": {},
     "output_type": "execute_result"
    }
   ],
   "source": [
    "data_dir = r'C:\\Users\\MEOW\\Dropbox\\JupyterProjects'\n",
    "file_name = data_dir + '\\RAW_recipes.csv'\n",
    "dataset_raw = pd.read_csv(file_name)\n",
    "dataset_raw.head()"
   ]
  },
  {
   "cell_type": "code",
   "execution_count": 3,
   "metadata": {
    "scrolled": true
   },
   "outputs": [
    {
     "name": "stdout",
     "output_type": "stream",
     "text": [
      "Dataset size BEFORE validation 231637\n",
      "Dataset size AFTER validation 231637\n",
      "Number of incomplete recipes 0\n"
     ]
    }
   ],
   "source": [
    "def recipe_validate_required_fields(recipe):\n",
    "    recipe = recipe[1]\n",
    "    required_keys = [\"name\", \"ingredients\", \"steps\"]\n",
    "\n",
    "    if recipe.empty:\n",
    "        return False\n",
    "    \n",
    "    for required_key in required_keys:\n",
    "        if not recipe[required_key]:\n",
    "            return False\n",
    "        \n",
    "        if type(recipe[required_key]) == list and len(recipe[required_key]) == 0:\n",
    "            return False\n",
    "    \n",
    "    return True\n",
    "\n",
    "dataset_validated = [recipe for recipe in dataset_raw.iterrows() if recipe_validate_required_fields(recipe)]\n",
    "\n",
    "print('Dataset size BEFORE validation', len(dataset_raw))\n",
    "print('Dataset size AFTER validation', len(dataset_validated))\n",
    "print('Number of incomplete recipes', len(dataset_raw) - len(dataset_validated))\n"
   ]
  },
  {
   "cell_type": "code",
   "execution_count": 4,
   "metadata": {},
   "outputs": [
    {
     "name": "stdout",
     "output_type": "stream",
     "text": [
      "'\n"
     ]
    }
   ],
   "source": [
    "print(dataset_validated[5][1][\"ingredients\"][1])"
   ]
  },
  {
   "cell_type": "code",
   "execution_count": 5,
   "metadata": {},
   "outputs": [
    {
     "name": "stdout",
     "output_type": "stream",
     "text": [
      "Recipe #1\n",
      "---------\n",
      "📗 arriba   baked winter squash mexican style\n",
      "\n",
      "🥕\n",
      "\n",
      "• winter squash\n",
      "• mexican seasoning\n",
      "• mixed spice\n",
      "• honey\n",
      "• butter\n",
      "• olive oil\n",
      "• salt\n",
      "\n",
      "📝\n",
      "\n",
      "▪︎ make a choice and proceed with recipe\n",
      "▪︎ depending on size of squash \n",
      "▪︎ cut into half or fourths\n",
      "▪︎ remove seeds\n",
      "▪︎ for spicy squash \n",
      "▪︎ drizzle olive oil or melted butter over each cut squash piece\n",
      "▪︎ season with mexican seasoning mix ii\n",
      "▪︎ for sweet squash \n",
      "▪︎ drizzle melted honey \n",
      "▪︎ butter \n",
      "▪︎ grated piloncillo over each cut squash piece\n",
      "▪︎ season with sweet mexican spice mix\n",
      "▪︎ bake at 350 degrees \n",
      "▪︎ again depending on size \n",
      "▪︎ for 40 minutes up to an hour \n",
      "▪︎ until a fork can easily pierce the skin\n",
      "▪︎ be careful not to burn the squash especially if you opt to use sugar or butter\n",
      "▪︎ if you feel more comfortable \n",
      "▪︎ cover the squash with aluminum foil the first half hour \n",
      "▪︎ give or take \n",
      "▪︎ of baking\n",
      "▪︎ if desired \n",
      "▪︎ season with salt\n",
      "\n",
      "\n",
      "\n",
      "Recipe #2\n",
      "---------\n",
      "📗 a bit different  breakfast pizza\n",
      "\n",
      "🥕\n",
      "\n",
      "• prepared pizza crust\n",
      "• sausage patty\n",
      "• eggs\n",
      "• milk\n",
      "• salt and pepper\n",
      "• cheese\n",
      "\n",
      "📝\n",
      "\n",
      "▪︎ preheat oven to 425 degrees f\n",
      "▪︎ press dough into the bottom and sides of a 12 inch pizza pan\n",
      "▪︎ bake for 5 minutes until set but not browned\n",
      "▪︎ cut sausage into small pieces\n",
      "▪︎ whisk eggs and milk in a bowl until frothy\n",
      "▪︎ spoon sausage over baked crust and sprinkle with cheese\n",
      "▪︎ pour egg mixture slowly over sausage and cheese\n",
      "▪︎ s& p to taste\n",
      "▪︎ bake 15-20 minutes or until eggs are set and crust is brown\n",
      "\n",
      "\n",
      "\n",
      "Recipe #3\n",
      "---------\n",
      "📗 all in the kitchen  chili\n",
      "\n",
      "🥕\n",
      "\n",
      "• ground beef\n",
      "• yellow onions\n",
      "• diced tomatoes\n",
      "• tomato paste\n",
      "• tomato soup\n",
      "• rotel tomatoes\n",
      "• kidney beans\n",
      "• water\n",
      "• chili powder\n",
      "• ground cumin\n",
      "• salt\n",
      "• lettuce\n",
      "• cheddar cheese\n",
      "\n",
      "📝\n",
      "\n",
      "▪︎ brown ground beef in large pot\n",
      "▪︎ add chopped onions to ground beef when almost brown and sautee until wilted\n",
      "▪︎ add all other ingredients\n",
      "▪︎ add kidney beans if you like beans in your chili\n",
      "▪︎ cook in slow cooker on high for 2-3 hours or 6-8 hours on low\n",
      "▪︎ serve with cold clean lettuce and shredded cheese\n",
      "\n",
      "\n",
      "\n"
     ]
    }
   ],
   "source": [
    "STOP_WORD_TITLE = '📗 '\n",
    "STOP_WORD_INGREDIENTS = '\\n🥕\\n\\n'\n",
    "STOP_WORD_INSTRUCTIONS = '\\n📝\\n\\n'\n",
    "\n",
    "def recipe_to_string(recipe):\n",
    "    recipe = recipe[1]\n",
    "    \n",
    "    title = recipe['name']\n",
    "    ingredients = recipe['ingredients']\n",
    "    instructions = recipe['steps']\n",
    "    \n",
    "    ingredients_string = ''\n",
    "    for ingredient in ingredients.strip(\"[]\").split(', '):\n",
    "        if ingredient:\n",
    "            ingredient = ingredient.replace(\"'\", \"\")\n",
    "            ingredients_string += f'• {ingredient}\\n'\n",
    "    \n",
    "    instructions_string = ''\n",
    "    for instruction in instructions.strip('][').split(', '):\n",
    "        if instruction:\n",
    "            instruction = instruction.replace(\"'\", \"\")\n",
    "            instructions_string += f'▪︎ {instruction}\\n'\n",
    "    \n",
    "    return f'{STOP_WORD_TITLE}{title}\\n{STOP_WORD_INGREDIENTS}{ingredients_string}{STOP_WORD_INSTRUCTIONS}{instructions_string}'\n",
    "\n",
    "dataset_stringified = [recipe_to_string(recipe) for recipe in dataset_validated]\n",
    "\n",
    "for recipe_index, recipe_string in enumerate(dataset_stringified[:3]):\n",
    "    print('Recipe #{}\\n---------'.format(recipe_index + 1))\n",
    "    print(recipe_string)\n",
    "    print('\\n')"
   ]
  },
  {
   "cell_type": "code",
   "execution_count": 6,
   "metadata": {},
   "outputs": [
    {
     "data": {
      "image/png": "[encoded data removed]",
      "text/plain": [
       "<Figure size 432x288 with 1 Axes>"
      ]
     },
     "metadata": {
      "needs_background": "light"
     },
     "output_type": "display_data"
    }
   ],
   "source": [
    "recipes_lengths = []\n",
    "for recipe_text in dataset_stringified:\n",
    "    recipes_lengths.append(len(recipe_text))\n",
    "\n",
    "plt.hist(recipes_lengths, range=(0, 3000), bins=50)\n",
    "plt.show()"
   ]
  },
  {
   "cell_type": "code",
   "execution_count": 7,
   "metadata": {},
   "outputs": [
    {
     "name": "stdout",
     "output_type": "stream",
     "text": [
      "Dataset size BEFORE filtering:  231637\n",
      "Dataset size AFTER filtering:  184912\n",
      "Number of eliminated recipes:  46725\n"
     ]
    }
   ],
   "source": [
    "MAX_RECIPE_LENGTH = 1000\n",
    "def filter_recipes_by_length(recipe_test):\n",
    "    return len(recipe_test) <= MAX_RECIPE_LENGTH \n",
    "\n",
    "dataset_filtered = [recipe_text for recipe_text in dataset_stringified if filter_recipes_by_length(recipe_text)]\n",
    "\n",
    "print('Dataset size BEFORE filtering: ', len(dataset_stringified))\n",
    "print('Dataset size AFTER filtering: ', len(dataset_filtered))\n",
    "print('Number of eliminated recipes: ', len(dataset_stringified) - len(dataset_filtered)) "
   ]
  },
  {
   "cell_type": "markdown",
   "metadata": {},
   "source": [
    "TOKENIZING characters\n"
   ]
  },
  {
   "cell_type": "code",
   "execution_count": 8,
   "metadata": {},
   "outputs": [
    {
     "data": {
      "text/plain": [
       "{'num_words': None,\n",
       " 'filters': '',\n",
       " 'lower': False,\n",
       " 'split': '',\n",
       " 'char_level': True,\n",
       " 'oov_token': None,\n",
       " 'document_count': 184913,\n",
       " 'word_counts': '{\"\\\\u2423\": 1, \"\\\\ud83d\\\\udcd7\": 184912, \" \": 17344427, \"a\": 6335895, \"r\": 5402351, \"i\": 5470618, \"b\": 1564095, \"k\": 1055102, \"e\": 9203946, \"d\": 3064891, \"w\": 1125935, \"n\": 5424288, \"t\": 5763636, \"s\": 4764101, \"q\": 68019, \"u\": 2543253, \"h\": 2700888, \"m\": 2060425, \"x\": 286585, \"c\": 2995456, \"y\": 749620, \"l\": 3863528, \"\\\\n\": 5003042, \"\\\\ud83e\\\\udd55\": 184912, \"\\\\u2022\": 1536648, \"o\": 5793395, \"g\": 1913626, \"p\": 2319650, \"v\": 786007, \"\\\\ud83d\\\\udcdd\": 184912, \"\\\\u25aa\": 2172010, \"\\\\ufe0e\": 2172010, \"z\": 123047, \"f\": 1245105, \"3\": 139525, \"5\": 158187, \"0\": 170192, \"4\": 78680, \"2\": 146405, \"1\": 206298, \"&\": 23436, \"-\": 182412, \"6\": 20688, \"8\": 28552, \"j\": 144212, \"\\\\\"\": 52228, \"^\": 56, \"/\": 60855, \"!\": 19222, \"9\": 20903, \":\": 16551, \"7\": 20903, \"@\": 600, \"%\": 1563, \".\": 477, \")\": 1457, \"]\": 313, \"(\": 590, \"~\": 522, \"{\": 72, \"\\\\\\\\\": 339, \",\": 1392, \"?\": 200, \"$\": 18, \"#\": 432, \"`\": 140, \"}\": 69, \"+\": 282, \">\": 59, \"[\": 318, \"<\": 29, \"=\": 295, \"_\": 52, \"|\": 15, \"*\": 3}',\n",
       " 'word_docs': '{\"\\\\u2423\": 1, \"m\": 184352, \"\\\\ud83d\\\\udcd7\": 184912, \"i\": 184911, \"t\": 184892, \"0\": 91769, \"k\": 175569, \"a\": 184910, \"3\": 87913, \"\\\\ud83d\\\\udcdd\": 184912, \"y\": 172267, \"h\": 184508, \"\\\\n\": 184912, \"w\": 181180, \"u\": 184515, \"e\": 184911, \"o\": 184903, \"\\\\ud83e\\\\udd55\": 184912, \"5\": 94238, \"s\": 184897, \"l\": 184852, \"\\\\u2022\": 184912, \"\\\\ufe0e\": 184911, \" \": 184912, \"n\": 184909, \"p\": 183525, \"d\": 184840, \"v\": 175090, \"b\": 182445, \"x\": 126965, \"f\": 180074, \"4\": 59134, \"\\\\u25aa\": 184911, \"q\": 46170, \"z\": 57009, \"g\": 184002, \"r\": 184909, \"c\": 184686, \"-\": 97935, \"1\": 104056, \"&\": 12255, \"2\": 88783, \"8\": 24380, \"6\": 18670, \"^\": 44, \"\\\\\"\": 23300, \"j\": 79223, \"!\": 17178, \"/\": 42551, \"9\": 19159, \":\": 11982, \"7\": 18781, \"@\": 552, \"%\": 1447, \".\": 337, \")\": 1150, \"]\": 247, \"(\": 563, \"~\": 323, \"{\": 59, \"\\\\\\\\\": 283, \",\": 1283, \"?\": 175, \"$\": 13, \"#\": 332, \"`\": 122, \"}\": 56, \"+\": 215, \">\": 37, \"[\": 252, \"<\": 20, \"=\": 173, \"_\": 15, \"|\": 5, \"*\": 2}',\n",
       " 'index_docs': '{\"1\": 184912, \"75\": 1, \"19\": 184352, \"30\": 184912, \"6\": 184911, \"5\": 184892, \"34\": 91769, \"25\": 175569, \"3\": 184910, \"38\": 87913, \"32\": 184912, \"27\": 172267, \"14\": 184508, \"9\": 184912, \"24\": 181180, \"15\": 184515, \"2\": 184911, \"4\": 184903, \"31\": 184912, \"35\": 94238, \"10\": 184897, \"11\": 184852, \"22\": 184912, \"18\": 184911, \"7\": 184909, \"16\": 183525, \"12\": 184840, \"26\": 175090, \"21\": 182445, \"28\": 126965, \"23\": 180074, \"40\": 59134, \"17\": 184911, \"41\": 46170, \"39\": 57009, \"20\": 184002, \"8\": 184909, \"13\": 184686, \"33\": 97935, \"29\": 104056, \"45\": 12255, \"36\": 88783, \"44\": 24380, \"48\": 18670, \"69\": 44, \"43\": 23300, \"37\": 79223, \"49\": 17178, \"42\": 42551, \"46\": 19159, \"50\": 11982, \"47\": 18781, \"54\": 552, \"51\": 1447, \"57\": 337, \"52\": 1150, \"61\": 247, \"55\": 563, \"56\": 323, \"66\": 59, \"59\": 283, \"53\": 1283, \"64\": 175, \"72\": 13, \"58\": 332, \"65\": 122, \"67\": 56, \"63\": 215, \"68\": 37, \"60\": 252, \"71\": 20, \"62\": 173, \"70\": 15, \"73\": 5, \"74\": 2}',\n",
       " 'index_word': '{\"1\": \" \", \"2\": \"e\", \"3\": \"a\", \"4\": \"o\", \"5\": \"t\", \"6\": \"i\", \"7\": \"n\", \"8\": \"r\", \"9\": \"\\\\n\", \"10\": \"s\", \"11\": \"l\", \"12\": \"d\", \"13\": \"c\", \"14\": \"h\", \"15\": \"u\", \"16\": \"p\", \"17\": \"\\\\u25aa\", \"18\": \"\\\\ufe0e\", \"19\": \"m\", \"20\": \"g\", \"21\": \"b\", \"22\": \"\\\\u2022\", \"23\": \"f\", \"24\": \"w\", \"25\": \"k\", \"26\": \"v\", \"27\": \"y\", \"28\": \"x\", \"29\": \"1\", \"30\": \"\\\\ud83d\\\\udcd7\", \"31\": \"\\\\ud83e\\\\udd55\", \"32\": \"\\\\ud83d\\\\udcdd\", \"33\": \"-\", \"34\": \"0\", \"35\": \"5\", \"36\": \"2\", \"37\": \"j\", \"38\": \"3\", \"39\": \"z\", \"40\": \"4\", \"41\": \"q\", \"42\": \"/\", \"43\": \"\\\\\"\", \"44\": \"8\", \"45\": \"&\", \"46\": \"9\", \"47\": \"7\", \"48\": \"6\", \"49\": \"!\", \"50\": \":\", \"51\": \"%\", \"52\": \")\", \"53\": \",\", \"54\": \"@\", \"55\": \"(\", \"56\": \"~\", \"57\": \".\", \"58\": \"#\", \"59\": \"\\\\\\\\\", \"60\": \"[\", \"61\": \"]\", \"62\": \"=\", \"63\": \"+\", \"64\": \"?\", \"65\": \"`\", \"66\": \"{\", \"67\": \"}\", \"68\": \">\", \"69\": \"^\", \"70\": \"_\", \"71\": \"<\", \"72\": \"$\", \"73\": \"|\", \"74\": \"*\", \"75\": \"\\\\u2423\"}',\n",
       " 'word_index': '{\" \": 1, \"e\": 2, \"a\": 3, \"o\": 4, \"t\": 5, \"i\": 6, \"n\": 7, \"r\": 8, \"\\\\n\": 9, \"s\": 10, \"l\": 11, \"d\": 12, \"c\": 13, \"h\": 14, \"u\": 15, \"p\": 16, \"\\\\u25aa\": 17, \"\\\\ufe0e\": 18, \"m\": 19, \"g\": 20, \"b\": 21, \"\\\\u2022\": 22, \"f\": 23, \"w\": 24, \"k\": 25, \"v\": 26, \"y\": 27, \"x\": 28, \"1\": 29, \"\\\\ud83d\\\\udcd7\": 30, \"\\\\ud83e\\\\udd55\": 31, \"\\\\ud83d\\\\udcdd\": 32, \"-\": 33, \"0\": 34, \"5\": 35, \"2\": 36, \"j\": 37, \"3\": 38, \"z\": 39, \"4\": 40, \"q\": 41, \"/\": 42, \"\\\\\"\": 43, \"8\": 44, \"&\": 45, \"9\": 46, \"7\": 47, \"6\": 48, \"!\": 49, \":\": 50, \"%\": 51, \")\": 52, \",\": 53, \"@\": 54, \"(\": 55, \"~\": 56, \".\": 57, \"#\": 58, \"\\\\\\\\\": 59, \"[\": 60, \"]\": 61, \"=\": 62, \"+\": 63, \"?\": 64, \"`\": 65, \"{\": 66, \"}\": 67, \">\": 68, \"^\": 69, \"_\": 70, \"<\": 71, \"$\": 72, \"|\": 73, \"*\": 74, \"\\\\u2423\": 75}'}"
      ]
     },
     "execution_count": 8,
     "metadata": {},
     "output_type": "execute_result"
    }
   ],
   "source": [
    "STOP_SIGN = '␣'\n",
    "\n",
    "tokenizer = tf.keras.preprocessing.text.Tokenizer(\n",
    "    char_level=True,\n",
    "    filters='',\n",
    "    lower=False,\n",
    "    split=''\n",
    ")\n",
    "\n",
    "# Stop word is not a part of recipes, but tokenizer must know about it as well.\n",
    "tokenizer.fit_on_texts([STOP_SIGN])\n",
    "\n",
    "tokenizer.fit_on_texts(dataset_filtered)\n",
    "\n",
    "tokenizer.get_config()"
   ]
  },
  {
   "cell_type": "code",
   "execution_count": 9,
   "metadata": {},
   "outputs": [
    {
     "name": "stdout",
     "output_type": "stream",
     "text": [
      "VOCABULARY_SIZE:  76\n"
     ]
    }
   ],
   "source": [
    "VOCABULARY_SIZE = len(tokenizer.word_counts) + 1\n",
    "\n",
    "print('VOCABULARY_SIZE: ', VOCABULARY_SIZE)"
   ]
  },
  {
   "cell_type": "code",
   "execution_count": 10,
   "metadata": {},
   "outputs": [
    {
     "name": "stdout",
     "output_type": "stream",
     "text": [
      "t\n",
      "g\n"
     ]
    }
   ],
   "source": [
    "print(tokenizer.index_word[5])\n",
    "print(tokenizer.index_word[20])"
   ]
  },
  {
   "cell_type": "code",
   "execution_count": 11,
   "metadata": {},
   "outputs": [
    {
     "data": {
      "text/plain": [
       "1"
      ]
     },
     "execution_count": 11,
     "metadata": {},
     "output_type": "execute_result"
    }
   ],
   "source": [
    "tokenizer.word_index[' ']"
   ]
  },
  {
   "cell_type": "code",
   "execution_count": 12,
   "metadata": {},
   "outputs": [
    {
     "name": "stdout",
     "output_type": "stream",
     "text": [
      "['', ' ', 'e', 'a', 'o', 't', 'i', 'n', 'r', '\\n', 's', 'l', 'd', 'c', 'h', 'u', 'p', '▪', '︎', 'm', 'g', 'b', '•', 'f', 'w', 'k', 'v', 'y', 'x', '1', '📗', '🥕', '📝', '-', '0', '5', '2', 'j', '3', 'z', '4', 'q', '/', '\"', '8', '&', '9', '7', '6', '!', ':', '%', ')', ',', '@', '(', '~', '.', '#', '\\\\', '[', ']', '=', '+', '?', '`', '{', '}', '>', '^', '_', '<', '$', '|', '*', '␣']\n"
     ]
    }
   ],
   "source": [
    "array_vocabulary = tokenizer.sequences_to_texts([[word_index] for word_index in range(VOCABULARY_SIZE)])\n",
    "print([char for char in array_vocabulary])\n"
   ]
  },
  {
   "cell_type": "code",
   "execution_count": 13,
   "metadata": {},
   "outputs": [
    {
     "data": {
      "text/plain": [
       "[[30, 1, 27, 2, 10]]"
      ]
     },
     "execution_count": 13,
     "metadata": {},
     "output_type": "execute_result"
    }
   ],
   "source": [
    "tokenizer.texts_to_sequences(['📗 yes'])"
   ]
  },
  {
   "cell_type": "markdown",
   "metadata": {},
   "source": [
    "Vectorizing "
   ]
  },
  {
   "cell_type": "code",
   "execution_count": 14,
   "metadata": {},
   "outputs": [
    {
     "name": "stdout",
     "output_type": "stream",
     "text": [
      "Vectorized dataset size 184912\n"
     ]
    }
   ],
   "source": [
    "dataset_vectorized = tokenizer.texts_to_sequences(dataset_filtered)\n",
    "\n",
    "print('Vectorized dataset size', len(dataset_vectorized)) "
   ]
  },
  {
   "cell_type": "code",
   "execution_count": 15,
   "metadata": {},
   "outputs": [
    {
     "name": "stdout",
     "output_type": "stream",
     "text": [
      "📗 arriba   baked winter squash mexican style \n",
      " \n",
      " 🥕 \n",
      " \n",
      " • winter squash \n",
      " • mexican seasoning \n",
      " • mixed spice \n",
      " • honey \n",
      " • butter \n",
      " • olive oil \n",
      " • salt \n",
      " \n",
      " 📝 \n",
      " \n",
      " ▪︎ make a choice and proceed with recipe \n",
      " ▪︎ depending on size of squash \n",
      " ▪︎ cut into half or fourths \n",
      " ▪︎ remove seeds \n",
      " ▪︎ for spicy squash \n",
      " ▪︎ drizzle olive oil or melted butter over each cut squash piece \n",
      " ▪︎ season with mexican seasoning mix ii \n",
      " ▪︎ for sweet squash \n",
      " ▪︎ drizzle melted honey \n",
      " ▪︎ butter \n",
      " ▪︎ grated piloncillo over each cut squash piece \n",
      " ▪︎ season with sweet mexican spice mix \n",
      " ▪︎ bake at 350 degrees \n",
      " ▪︎ again depending on size \n",
      " ▪︎ for 40 minutes up to an hour \n",
      " ▪︎ until a fork can easily pierce the skin \n",
      " ▪︎ be careful not to burn the squash especially if you opt to use sugar or butter \n",
      " ▪︎ if you feel more comfortable \n",
      " ▪︎ cover the squash with aluminum foil the first half hour \n",
      " ▪︎ give or take \n",
      " ▪︎ of baking \n",
      " ▪︎ if desired \n",
      " ▪︎ season with salt \n",
      "\n"
     ]
    }
   ],
   "source": [
    "import re\n",
    "\n",
    "def recipe_sequence_to_string(recipe_sequence):\n",
    "    recipe_stringified = tokenizer.sequences_to_texts([recipe_sequence])[0]\n",
    "    recipe_stringified = re.sub(r'(?<=\\S)\\s(?=\\S)', '', recipe_stringified).replace(\"   \", \" \")\n",
    "    print(recipe_stringified)\n",
    "    \n",
    "recipe_sequence_to_string(dataset_vectorized[0])\n"
   ]
  },
  {
   "cell_type": "code",
   "execution_count": 16,
   "metadata": {},
   "outputs": [
    {
     "name": "stdout",
     "output_type": "stream",
     "text": [
      "Recipe #1 length: 894\n",
      "Recipe #2 length: 537\n",
      "Recipe #3 length: 528\n",
      "Recipe #4 length: 781\n",
      "Recipe #5 length: 457\n",
      "Recipe #6 length: 223\n",
      "Recipe #7 length: 345\n",
      "Recipe #8 length: 607\n",
      "Recipe #9 length: 758\n",
      "Recipe #10 length: 218\n"
     ]
    }
   ],
   "source": [
    "for recipe_index, recipe in enumerate(dataset_vectorized[:10]):\n",
    "    print('Recipe #{} length: {}'.format(recipe_index + 1, len(recipe)))"
   ]
  },
  {
   "cell_type": "code",
   "execution_count": 17,
   "metadata": {},
   "outputs": [
    {
     "name": "stdout",
     "output_type": "stream",
     "text": [
      "Recipe #0 length: 1001\n",
      "Recipe #1 length: 1001\n",
      "Recipe #2 length: 1001\n",
      "Recipe #3 length: 1001\n",
      "Recipe #4 length: 1001\n",
      "Recipe #5 length: 1001\n",
      "Recipe #6 length: 1001\n",
      "Recipe #7 length: 1001\n",
      "Recipe #8 length: 1001\n",
      "Recipe #9 length: 1001\n"
     ]
    }
   ],
   "source": [
    "dataset_vectorized_padded_without_stops = tf.keras.preprocessing.sequence.pad_sequences(\n",
    "    dataset_vectorized,\n",
    "    padding='post',\n",
    "    truncating='post',\n",
    "    # We use -1 here and +1 in the next step to make sure\n",
    "    # that all recipes will have at least 1 stops sign at the end,\n",
    "    # since each sequence will be shifted and truncated afterwards\n",
    "    # (to generate X and Y sequences).\n",
    "    maxlen=MAX_RECIPE_LENGTH-1,\n",
    "    value=tokenizer.texts_to_sequences([STOP_SIGN])[0]\n",
    ")\n",
    "\n",
    "dataset_vectorized_padded = tf.keras.preprocessing.sequence.pad_sequences(\n",
    "    dataset_vectorized_padded_without_stops,\n",
    "    padding='post',\n",
    "    truncating='post',\n",
    "    maxlen=MAX_RECIPE_LENGTH+1,\n",
    "    value=tokenizer.texts_to_sequences([STOP_SIGN])[0]\n",
    ")\n",
    "\n",
    "for recipe_index, recipe in enumerate(dataset_vectorized_padded[:10]):\n",
    "    print('Recipe #{} length: {}'.format(recipe_index, len(recipe)))"
   ]
  },
  {
   "cell_type": "code",
   "execution_count": 18,
   "metadata": {},
   "outputs": [
    {
     "name": "stdout",
     "output_type": "stream",
     "text": [
      "<TensorSliceDataset shapes: (1001,), types: tf.int32>\n"
     ]
    }
   ],
   "source": [
    "dataset = tf.data.Dataset.from_tensor_slices(dataset_vectorized_padded)\n",
    "\n",
    "print(dataset)"
   ]
  },
  {
   "cell_type": "code",
   "execution_count": 19,
   "metadata": {},
   "outputs": [
    {
     "name": "stdout",
     "output_type": "stream",
     "text": [
      "Raw recipe:\n",
      " [30  1  3 ... 75 75 75] \n",
      "\n",
      "\n",
      "\n",
      "Stringified recipe:\n",
      "\n",
      "📗 arriba   baked winter squash mexican style \n",
      " \n",
      " 🥕 \n",
      " \n",
      " • winter squash \n",
      " • mexican seasoning \n",
      " • mixed spice \n",
      " • honey \n",
      " • butter \n",
      " • olive oil \n",
      " • salt \n",
      " \n",
      " 📝 \n",
      " \n",
      " ▪︎ make a choice and proceed with recipe \n",
      " ▪︎ depending on size of squash \n",
      " ▪︎ cut into half or fourths \n",
      " ▪︎ remove seeds \n",
      " ▪︎ for spicy squash \n",
      " ▪︎ drizzle olive oil or melted butter over each cut squash piece \n",
      " ▪︎ season with mexican seasoning mix ii \n",
      " ▪︎ for sweet squash \n",
      " ▪︎ drizzle melted honey \n",
      " ▪︎ butter \n",
      " ▪︎ grated piloncillo over each cut squash piece \n",
      " ▪︎ season with sweet mexican spice mix \n",
      " ▪︎ bake at 350 degrees \n",
      " ▪︎ again depending on size \n",
      " ▪︎ for 40 minutes up to an hour \n",
      " ▪︎ until a fork can easily pierce the skin \n",
      " ▪︎ be careful not to burn the squash especially if you opt to use sugar or butter \n",
      " ▪︎ if you feel more comfortable \n",
      " ▪︎ cover the squash with aluminum foil the first half hour \n",
      " ▪︎ give or take \n",
      " ▪︎ of baking \n",
      " ▪︎ if desired \n",
      " ▪︎ season with salt \n",
      " ␣␣␣␣␣␣␣␣␣␣␣␣␣␣␣␣␣␣␣␣␣␣␣␣␣␣␣␣␣␣␣␣␣␣␣␣␣␣␣␣␣␣␣␣␣␣␣␣␣␣␣␣␣␣␣␣␣␣␣␣␣␣␣␣␣␣␣␣␣␣␣␣␣␣␣␣␣␣␣␣␣␣␣␣␣␣␣␣␣␣␣␣␣␣␣␣␣␣␣␣␣␣␣␣␣␣␣\n"
     ]
    }
   ],
   "source": [
    "for recipe in dataset.take(1):\n",
    "    print('Raw recipe:\\n', recipe.numpy(), '\\n\\n\\n')\n",
    "    print('Stringified recipe:\\n')\n",
    "    recipe_sequence_to_string(recipe.numpy())\n"
   ]
  },
  {
   "cell_type": "code",
   "execution_count": 20,
   "metadata": {},
   "outputs": [
    {
     "name": "stdout",
     "output_type": "stream",
     "text": [
      "<MapDataset shapes: ((1000,), (1000,)), types: (tf.int32, tf.int32)>\n"
     ]
    }
   ],
   "source": [
    "def split_input_target(recipe):\n",
    "    input_text = recipe[:-1]\n",
    "    target_text = recipe[1:]\n",
    "    \n",
    "    return input_text, target_text\n",
    "\n",
    "dataset_targeted = dataset.map(split_input_target)\n",
    "\n",
    "print(dataset_targeted)"
   ]
  },
  {
   "cell_type": "code",
   "execution_count": 21,
   "metadata": {},
   "outputs": [
    {
     "name": "stdout",
     "output_type": "stream",
     "text": [
      "Input sequence size: 1000\n",
      "Target sequence size: 1000\n",
      "\n",
      "Input:   '📗   a r r i b a       b a k e d   w i n t e r   s q u a s h   m e x i c a n   s t y l e \\n \\n 🥕 \\n \\n •'\n",
      "Target:  '  a r r i b a       b a k e d   w i n t e r   s q u a s h   m e x i c a n   s t y l e \\n \\n 🥕 \\n \\n •  '\n"
     ]
    }
   ],
   "source": [
    "for input_example, target_example in dataset_targeted.take(1):\n",
    "    print('Input sequence size:', repr(len(input_example.numpy())))\n",
    "    print('Target sequence size:', repr(len(target_example.numpy())))\n",
    "    print()\n",
    "    \n",
    "    input_stringified = tokenizer.sequences_to_texts([input_example.numpy()[:50]])[0]\n",
    "    target_stringified = tokenizer.sequences_to_texts([target_example.numpy()[:50]])[0]\n",
    "    \n",
    "    print('Input:  ', repr(''.join(input_stringified)))\n",
    "    print('Target: ', repr(''.join(target_stringified))) \n"
   ]
  },
  {
   "cell_type": "code",
   "execution_count": 22,
   "metadata": {},
   "outputs": [
    {
     "name": "stdout",
     "output_type": "stream",
     "text": [
      "Step  1\n",
      "  input: 30 ('📗')\n",
      "  expected output: 1 (' ')\n",
      "Step  2\n",
      "  input: 1 (' ')\n",
      "  expected output: 3 ('a')\n",
      "Step  3\n",
      "  input: 3 ('a')\n",
      "  expected output: 8 ('r')\n",
      "Step  4\n",
      "  input: 8 ('r')\n",
      "  expected output: 8 ('r')\n",
      "Step  5\n",
      "  input: 8 ('r')\n",
      "  expected output: 6 ('i')\n",
      "Step  6\n",
      "  input: 6 ('i')\n",
      "  expected output: 21 ('b')\n",
      "Step  7\n",
      "  input: 21 ('b')\n",
      "  expected output: 3 ('a')\n",
      "Step  8\n",
      "  input: 3 ('a')\n",
      "  expected output: 1 (' ')\n",
      "Step  9\n",
      "  input: 1 (' ')\n",
      "  expected output: 1 (' ')\n",
      "Step 10\n",
      "  input: 1 (' ')\n",
      "  expected output: 1 (' ')\n"
     ]
    }
   ],
   "source": [
    "for i, (input_idx, target_idx) in enumerate(zip(input_example[:10], target_example[:10])):\n",
    "    print('Step {:2d}'.format(i + 1))\n",
    "    print('  input: {} ({:s})'.format(input_idx, repr(tokenizer.sequences_to_texts([[input_idx.numpy()]])[0])))\n",
    "    print('  expected output: {} ({:s})'.format(target_idx, repr(tokenizer.sequences_to_texts([[target_idx.numpy()]])[0])))\n"
   ]
  },
  {
   "cell_type": "code",
   "execution_count": 23,
   "metadata": {},
   "outputs": [
    {
     "name": "stdout",
     "output_type": "stream",
     "text": [
      "<RepeatDataset shapes: ((64, 1000), (64, 1000)), types: (tf.int32, tf.int32)>\n"
     ]
    }
   ],
   "source": [
    "# Batch size.\n",
    "BATCH_SIZE = 64\n",
    "\n",
    "# Buffer size to shuffle the dataset (TF data is designed to work\n",
    "# with possibly infinite sequences, so it doesn't attempt to shuffle\n",
    "# the entire sequence in memory. Instead, it maintains a buffer in\n",
    "# which it shuffles elements).\n",
    "SHUFFLE_BUFFER_SIZE = 1000\n",
    "\n",
    "dataset_train = dataset_targeted.shuffle(SHUFFLE_BUFFER_SIZE).batch(BATCH_SIZE, drop_remainder=True).repeat()\n",
    "\n",
    "print(dataset_train)"
   ]
  },
  {
   "cell_type": "code",
   "execution_count": 24,
   "metadata": {},
   "outputs": [
    {
     "name": "stdout",
     "output_type": "stream",
     "text": [
      "1st batch: input_text: tf.Tensor(\n",
      "[[30  1 29 ... 75 75 75]\n",
      " [30  1 37 ... 75 75 75]\n",
      " [30  1  5 ... 75 75 75]\n",
      " ...\n",
      " [30  1 10 ... 75 75 75]\n",
      " [30  1 13 ... 75 75 75]\n",
      " [30  1 29 ... 75 75 75]], shape=(64, 1000), dtype=int32)\n",
      "\n",
      "1st batch: target_text: tf.Tensor(\n",
      "[[ 1 29 44 ... 75 75 75]\n",
      " [ 1 37  3 ... 75 75 75]\n",
      " [ 1  5 14 ... 75 75 75]\n",
      " ...\n",
      " [ 1 10  1 ... 75 75 75]\n",
      " [ 1 13 14 ... 75 75 75]\n",
      " [ 1 29 34 ... 75 75 75]], shape=(64, 1000), dtype=int32)\n"
     ]
    }
   ],
   "source": [
    "for input_text, target_text in dataset_train.take(1):\n",
    "    print('1st batch: input_text:', input_text)\n",
    "    print()\n",
    "    print('1st batch: target_text:', target_text)"
   ]
  },
  {
   "cell_type": "code",
   "execution_count": 25,
   "metadata": {},
   "outputs": [
    {
     "name": "stdout",
     "output_type": "stream",
     "text": [
      "Model: \"sequential\"\n",
      "_________________________________________________________________\n",
      "Layer (type)                 Output Shape              Param #   \n",
      "=================================================================\n",
      "embedding (Embedding)        (64, None, 256)           19456     \n",
      "_________________________________________________________________\n",
      "lstm (LSTM)                  (64, None, 1024)          5246976   \n",
      "_________________________________________________________________\n",
      "dense (Dense)                (64, None, 76)            77900     \n",
      "=================================================================\n",
      "Total params: 5,344,332\n",
      "Trainable params: 5,344,332\n",
      "Non-trainable params: 0\n",
      "_________________________________________________________________\n"
     ]
    }
   ],
   "source": [
    "def build_model(vocab_size, embedding_dim, rnn_units, batch_size):\n",
    "    model = tf.keras.models.Sequential()\n",
    "\n",
    "    model.add(tf.keras.layers.Embedding(\n",
    "        input_dim=vocab_size,\n",
    "        output_dim=embedding_dim,\n",
    "        batch_input_shape=[batch_size, None]\n",
    "    ))\n",
    "\n",
    "    model.add(tf.keras.layers.LSTM(\n",
    "        units=rnn_units,\n",
    "        return_sequences=True,\n",
    "        stateful=True,\n",
    "        recurrent_initializer=tf.keras.initializers.GlorotNormal()\n",
    "    ))\n",
    "\n",
    "    model.add(tf.keras.layers.Dense(vocab_size))\n",
    "    \n",
    "    return model\n",
    "\n",
    "model = build_model(\n",
    "  vocab_size=VOCABULARY_SIZE,\n",
    "  embedding_dim=256,\n",
    "  rnn_units=1024,\n",
    "  batch_size=BATCH_SIZE\n",
    ")\n",
    "\n",
    "model.summary()"
   ]
  },
  {
   "cell_type": "code",
   "execution_count": 26,
   "metadata": {},
   "outputs": [
    {
     "name": "stdout",
     "output_type": "stream",
     "text": [
      "(64, 1000, 76) # (batch_size, sequence_length, vocab_size)\n"
     ]
    }
   ],
   "source": [
    "for input_example_batch, target_example_batch in dataset_train.take(1):\n",
    "    example_batch_predictions = model(input_example_batch)\n",
    "    print(example_batch_predictions.shape, \"# (batch_size, sequence_length, vocab_size)\")\n"
   ]
  },
  {
   "cell_type": "code",
   "execution_count": 27,
   "metadata": {},
   "outputs": [
    {
     "data": {
      "text/plain": [
       "(1000,)"
      ]
     },
     "execution_count": 27,
     "metadata": {},
     "output_type": "execute_result"
    }
   ],
   "source": [
    "sampled_indices = tf.random.categorical(\n",
    "    logits=example_batch_predictions[0],\n",
    "    num_samples=1\n",
    ")\n",
    "\n",
    "sampled_indices = tf.squeeze(\n",
    "    input=sampled_indices,\n",
    "    axis=-1\n",
    ").numpy()\n",
    "\n",
    "sampled_indices.shape"
   ]
  },
  {
   "cell_type": "code",
   "execution_count": 28,
   "metadata": {},
   "outputs": [
    {
     "name": "stdout",
     "output_type": "stream",
     "text": [
      "Input:\n",
      " '📗   1 4   m i n u t e   m a p l e   c a n d y \\n \\n 🥕 \\n \\n •   m a p l e   s y r u p \\n •   c r e a m \\n'\n",
      "\n",
      "Next char prediction:\n",
      " '! 9 7 ` 9 $ 📗 y 3 ^ 8   e x ! ? \" ▪ ( v \\n } 8 u b : : 📝 9 2 . o   7 📗 ] ]   w a h & y t l $ • d / {'\n"
     ]
    }
   ],
   "source": [
    "print('Input:\\n', repr(''.join(tokenizer.sequences_to_texts([input_example_batch[0].numpy()[:50]]))))\n",
    "print()\n",
    "print('Next char prediction:\\n', repr(''.join(tokenizer.sequences_to_texts([sampled_indices[:50]])))) "
   ]
  },
  {
   "cell_type": "code",
   "execution_count": 29,
   "metadata": {},
   "outputs": [
    {
     "name": "stdout",
     "output_type": "stream",
     "text": [
      "Prediction shape:  (64, 1000, 76)  # (batch_size, sequence_length, vocab_size)\n",
      "scalar_loss.shape:       (64, 1000)\n",
      "scalar_loss:       4.325919\n"
     ]
    }
   ],
   "source": [
    "# An objective function.\n",
    "# The function is any callable with the signature scalar_loss = fn(y_true, y_pred).\n",
    "def loss(labels, logits):\n",
    "    entropy = tf.keras.losses.sparse_categorical_crossentropy(\n",
    "      y_true=labels,\n",
    "      y_pred=logits,\n",
    "      from_logits=True\n",
    "    )\n",
    "    \n",
    "    return entropy\n",
    "\n",
    "example_batch_loss = loss(target_example_batch, example_batch_predictions)\n",
    "\n",
    "print(\"Prediction shape: \", example_batch_predictions.shape, \" # (batch_size, sequence_length, vocab_size)\")\n",
    "print(\"scalar_loss.shape:      \", example_batch_loss.shape)\n",
    "print(\"scalar_loss:      \", example_batch_loss.numpy().mean()) "
   ]
  },
  {
   "cell_type": "code",
   "execution_count": 30,
   "metadata": {},
   "outputs": [],
   "source": [
    "adam_optimizer = tf.keras.optimizers.Adam(learning_rate=0.001)\n",
    "\n",
    "model.compile(\n",
    "    optimizer=adam_optimizer,\n",
    "    loss=loss\n",
    ")\n"
   ]
  },
  {
   "cell_type": "code",
   "execution_count": 31,
   "metadata": {},
   "outputs": [],
   "source": [
    "early_stopping_callback = tf.keras.callbacks.EarlyStopping(\n",
    "    patience=5,\n",
    "    monitor='loss',\n",
    "    restore_best_weights=True,\n",
    "    verbose=1\n",
    ")\n",
    "\n",
    "# Create a checkpoints directory.\n",
    "checkpoint_dir = 'tmp/checkpoints'\n",
    "os.makedirs(checkpoint_dir, exist_ok=True)\n",
    "\n",
    "checkpoint_prefix = os.path.join(checkpoint_dir, 'ckpt_{epoch}')\n",
    "checkpoint_callback=tf.keras.callbacks.ModelCheckpoint(\n",
    "    filepath=checkpoint_prefix,\n",
    "    save_weights_only=True\n",
    ")"
   ]
  },
  {
   "cell_type": "code",
   "execution_count": 32,
   "metadata": {},
   "outputs": [
    {
     "name": "stdout",
     "output_type": "stream",
     "text": [
      "Epoch 2/20\n",
      "200/200 [==============================] - 10579s 53s/step - loss: 2.2091\n",
      "Epoch 3/20\n",
      "200/200 [==============================] - 12162s 61s/step - loss: 1.3083\n",
      "Epoch 4/20\n",
      "200/200 [==============================] - 12042s 60s/step - loss: 1.1297\n",
      "Epoch 5/20\n",
      "200/200 [==============================] - 12120s 61s/step - loss: 1.0031\n",
      "Epoch 6/20\n",
      "200/200 [==============================] - 12159s 61s/step - loss: 0.8223\n",
      "Epoch 7/20\n",
      "200/200 [==============================] - 12455s 62s/step - loss: 0.7764\n",
      "Epoch 8/20\n",
      "200/200 [==============================] - 12331s 62s/step - loss: 0.6817\n",
      "Epoch 9/20\n",
      "200/200 [==============================] - 12340s 62s/step - loss: 0.6262\n",
      "Epoch 10/20\n",
      "200/200 [==============================] - 12284s 61s/step - loss: 0.5804\n",
      "Epoch 11/20\n",
      "200/200 [==============================] - 12299s 61s/step - loss: 0.5488\n",
      "Epoch 12/20\n",
      "200/200 [==============================] - 12273s 61s/step - loss: 0.5299\n",
      "Epoch 13/20\n",
      "200/200 [==============================] - 12269s 61s/step - loss: 0.5166\n",
      "Epoch 14/20\n",
      "200/200 [==============================] - 12334s 62s/step - loss: 0.4871\n",
      "Epoch 15/20\n",
      "200/200 [==============================] - 12508s 63s/step - loss: 0.4858\n",
      "Epoch 16/20\n",
      "200/200 [==============================] - 12611s 63s/step - loss: 0.4570\n",
      "Epoch 17/20\n",
      "200/200 [==============================] - 12548s 63s/step - loss: 0.4501\n",
      "Epoch 18/20\n",
      "200/200 [==============================] - 12490s 62s/step - loss: 0.4357\n",
      "Epoch 19/20\n",
      "200/200 [==============================] - 12539s 63s/step - loss: 0.4341\n",
      "Epoch 20/20\n",
      "200/200 [==============================] - 12558s 63s/step - loss: 0.3989\n"
     ]
    }
   ],
   "source": [
    "EPOCHS = 20\n",
    "INITIAL_EPOCH = 1\n",
    "STEPS_PER_EPOCH = 200\n",
    "\n",
    "history = model.fit(\n",
    "    x=dataset_train,\n",
    "    epochs=EPOCHS,\n",
    "    steps_per_epoch=STEPS_PER_EPOCH,\n",
    "    initial_epoch=INITIAL_EPOCH,\n",
    "    callbacks=[\n",
    "        checkpoint_callback,\n",
    "        early_stopping_callback\n",
    "    ]\n",
    ")\n",
    "\n",
    "# Saving the trained model to file (to be able to re-use it later).\n",
    "model_name = 'recipe_generation_rnn_raw.h5'\n",
    "model.save(model_name, save_format='h5')"
   ]
  },
  {
   "cell_type": "code",
   "execution_count": 33,
   "metadata": {},
   "outputs": [
    {
     "data": {
      "image/png": "[encoded data removed]",
      "text/plain": [
       "<Figure size 432x288 with 1 Axes>"
      ]
     },
     "metadata": {
      "needs_background": "light"
     },
     "output_type": "display_data"
    }
   ],
   "source": [
    "def render_training_history(training_history):\n",
    "    loss = training_history.history['loss']\n",
    "\n",
    "    plt.title('Loss')\n",
    "    plt.xlabel('Epoch')\n",
    "    plt.ylabel('Loss')\n",
    "    plt.plot(loss, label='Training set')\n",
    "    plt.legend()\n",
    "    plt.grid(linestyle='--', linewidth=1, alpha=0.5)\n",
    "    plt.show()\n",
    "\n",
    "render_training_history(history)\n"
   ]
  },
  {
   "cell_type": "code",
   "execution_count": 36,
   "metadata": {},
   "outputs": [
    {
     "data": {
      "text/plain": [
       "'tmp/checkpoints\\\\ckpt_20'"
      ]
     },
     "execution_count": 36,
     "metadata": {},
     "output_type": "execute_result"
    }
   ],
   "source": [
    "tf.train.latest_checkpoint(checkpoint_dir)\n"
   ]
  },
  {
   "cell_type": "code",
   "execution_count": 40,
   "metadata": {},
   "outputs": [
    {
     "name": "stdout",
     "output_type": "stream",
     "text": [
      "Model: \"sequential_1\"\n",
      "_________________________________________________________________\n",
      "Layer (type)                 Output Shape              Param #   \n",
      "=================================================================\n",
      "embedding_1 (Embedding)      (1, None, 256)            19456     \n",
      "_________________________________________________________________\n",
      "lstm_1 (LSTM)                (1, None, 1024)           5246976   \n",
      "_________________________________________________________________\n",
      "dense_1 (Dense)              (1, None, 76)             77900     \n",
      "=================================================================\n",
      "Total params: 5,344,332\n",
      "Trainable params: 5,344,332\n",
      "Non-trainable params: 0\n",
      "_________________________________________________________________\n"
     ]
    }
   ],
   "source": [
    "simplified_batch_size = 1\n",
    "\n",
    "model_simplified = build_model(vocab_size=VOCABULARY_SIZE,\n",
    "  embedding_dim=256,\n",
    "  rnn_units=1024,\n",
    "  batch_size=simplified_batch_size)\n",
    "model_simplified.load_weights(tf.train.latest_checkpoint(checkpoint_dir))\n",
    "model_simplified.build(tf.TensorShape([simplified_batch_size, None]))\n",
    "\n",
    "model_simplified.summary()"
   ]
  },
  {
   "cell_type": "code",
   "execution_count": 41,
   "metadata": {},
   "outputs": [
    {
     "data": {
      "text/plain": [
       "(1, None)"
      ]
     },
     "execution_count": 41,
     "metadata": {},
     "output_type": "execute_result"
    }
   ],
   "source": [
    "model_simplified.input_shape"
   ]
  },
  {
   "cell_type": "code",
   "execution_count": 42,
   "metadata": {},
   "outputs": [],
   "source": [
    "def generate_text(model, start_string, num_generate = 1000, temperature=1.0):\n",
    "    # Evaluation step (generating text using the learned model)\n",
    "    \n",
    "    padded_start_string = STOP_WORD_TITLE + start_string\n",
    "\n",
    "    # Converting our start string to numbers (vectorizing).\n",
    "    input_indices = np.array(tokenizer.texts_to_sequences([padded_start_string]))\n",
    "\n",
    "    # Empty string to store our results.\n",
    "    text_generated = []\n",
    "\n",
    "    # Here batch size == 1.\n",
    "    model.reset_states()\n",
    "    for char_index in range(num_generate):\n",
    "        predictions = model(input_indices)\n",
    "        # remove the batch dimension\n",
    "        predictions = tf.squeeze(predictions, 0)\n",
    "\n",
    "        # Using a categorical distribution to predict the character returned by the model.\n",
    "        predictions = predictions / temperature\n",
    "        predicted_id = tf.random.categorical(\n",
    "            predictions,\n",
    "            num_samples=1\n",
    "        )[-1, 0].numpy()\n",
    "\n",
    "        # We pass the predicted character as the next input to the model\n",
    "        # along with the previous hidden state.\n",
    "        input_indices = tf.expand_dims([predicted_id], 0)\n",
    "        \n",
    "        next_character = tokenizer.sequences_to_texts(input_indices.numpy())[0]\n",
    "\n",
    "        text_generated.append(next_character)\n",
    "\n",
    "    return (padded_start_string + ''.join(text_generated))"
   ]
  },
  {
   "cell_type": "code",
   "execution_count": 47,
   "metadata": {},
   "outputs": [],
   "source": [
    "def generate_combinations(model):\n",
    "    recipe_length = 1000\n",
    "    try_letters = [ 'A', 'B', 'C']\n",
    "    try_temperature = [1.0, 0.8, 0.4, 0.2]\n",
    "\n",
    "    for letter in try_letters:\n",
    "        for temperature in try_temperature:\n",
    "            generated_text = generate_text(\n",
    "                model,\n",
    "                start_string=letter,\n",
    "                num_generate = recipe_length,\n",
    "                temperature=temperature\n",
    "            )\n",
    "            print(f'Attempt: \"{letter}\" + {temperature}')\n",
    "            print('-----------------------------------')\n",
    "            print(generated_text)\n",
    "            print('\\n\\n')"
   ]
  },
  {
   "cell_type": "code",
   "execution_count": 48,
   "metadata": {},
   "outputs": [
    {
     "name": "stdout",
     "output_type": "stream",
     "text": [
      "Attempt: \"A\" + 1.0\n",
      "-----------------------------------\n",
      "📗 A\"odat to banch dough for remaining sasancr lime\n",
      "\n",
      "🥕\n",
      "\n",
      "• boneless chicken breasts\n",
      "• garlic\n",
      "• fresh basil\n",
      "• black pepper\n",
      "• celery\n",
      "• baby\n",
      "• plain notstarch\n",
      "\n",
      "📝\n",
      "\n",
      "▪︎ combine all ingredients until browned boil \n",
      "▪︎ about 25 minutes\n",
      "▪︎ place leftover venion with cooking spray and brown tall up and fold wo genee\n",
      "␣␣␣␣␣␣␣␣␣␣␣␣␣␣␣␣␣␣␣␣␣␣␣␣␣␣␣␣␣␣␣␣␣␣␣␣␣␣␣␣␣␣␣␣␣␣␣␣␣␣␣␣␣␣␣␣␣␣␣␣␣␣␣␣␣␣␣␣␣␣␣␣␣␣␣␣␣␣␣␣␣␣␣␣␣␣␣␣␣␣␣␣␣␣␣␣␣␣␣␣␣␣␣␣␣␣␣␣␣␣␣␣␣␣␣␣␣␣␣␣␣␣␣␣␣␣␣␣␣␣␣␣␣␣␣␣␣␣␣␣␣␣␣␣␣␣␣␣␣␣␣␣␣␣␣␣␣␣␣␣␣␣␣␣␣␣␣␣␣␣␣␣␣␣␣␣␣␣␣␣␣␣␣␣␣␣␣␣␣␣␣␣␣␣␣␣␣␣␣␣␣␣␣␣␣␣␣␣␣␣␣␣␣␣␣␣␣␣␣␣␣␣␣␣␣␣␣␣␣␣␣␣␣␣␣␣␣␣␣␣␣␣␣␣␣␣␣␣␣␣␣␣␣␣␣␣␣␣␣␣␣␣␣␣␣␣␣␣␣␣␣␣␣␣␣␣␣␣␣␣␣␣␣␣␣␣␣␣␣␣␣␣␣␣␣␣␣␣␣␣␣␣␣␣␣␣␣␣␣␣␣␣␣␣␣␣␣␣␣␣␣␣␣␣␣␣␣␣␣␣␣␣␣␣␣␣␣␣␣␣␣␣␣␣␣␣␣␣␣␣␣␣␣␣␣␣␣␣␣␣␣␣␣␣␣␣␣␣␣␣␣␣␣␣␣␣␣␣␣␣␣␣␣␣␣␣␣␣␣␣␣␣␣␣␣␣␣␣␣␣␣␣␣␣␣␣␣␣␣␣␣␣␣␣␣␣␣␣␣␣␣␣␣␣␣␣␣␣␣␣␣␣␣␣␣␣␣␣␣␣␣␣␣␣␣␣␣␣␣␣␣␣␣␣␣␣␣␣␣␣␣␣␣␣␣␣␣␣␣␣␣␣␣␣␣␣␣␣␣␣␣␣␣␣␣␣␣␣␣␣␣␣␣␣␣␣␣␣␣␣␣␣␣␣␣␣␣␣␣␣␣␣␣␣␣␣␣␣␣␣␣␣␣␣␣␣␣␣␣␣␣␣␣␣␣␣␣␣␣␣␣␣␣␣␣␣␣␣␣␣␣␣␣␣␣␣␣␣␣␣␣␣␣␣␣␣␣␣␣␣␣␣␣␣␣␣␣␣␣␣␣␣␣␣␣␣␣␣␣␣␣␣␣␣␣␣␣␣␣␣␣␣␣␣␣␣␣␣␣␣␣␣␣␣␣␣␣␣␣␣␣␣␣␣␣␣␣␣␣␣␣␣␣␣␣␣␣␣␣␣␣␣␣␣␣␣␣␣␣␣␣␣␣␣␣␣␣␣␣␣␣␣␣␣␣␣␣␣␣␣␣␣␣␣␣␣␣␣␣␣␣␣␣␣␣␣␣␣␣␣␣␣␣␣␣␣␣␣\n",
      "\n",
      "\n",
      "\n",
      "Attempt: \"A\" + 0.8\n",
      "-----------------------------------\n",
      "📗 Adeesspick\n",
      "\n",
      "📝\n",
      "\n",
      "▪︎ lightly grease a 1 1 / 2 quart skillet over medium heat\n",
      "▪︎ brush half the mixture in another saucepan \n",
      "▪︎ add remaining liquid \n",
      "▪︎ then add salt and pepper\n",
      "▪︎ heat to boiling\n",
      "▪︎ stir in the flour and stir in crackers in a separake mixture\n",
      "▪︎ cover and refrigerate at food processor or until just combined\n",
      "▪︎ to serve with the cake mixture and allow vegetable with flour with spinach and cut side up cooking\n",
      "␣␣␣␣␣␣␣␣␣␣␣␣␣␣␣␣␣␣␣␣␣␣␣␣␣␣␣␣␣␣␣␣␣␣␣␣␣␣␣␣␣␣␣␣␣␣␣␣␣␣␣␣␣␣␣␣␣␣␣␣␣␣␣␣␣␣␣␣␣␣␣␣␣␣␣␣␣␣␣␣␣␣␣␣␣␣␣␣␣␣␣␣␣␣␣␣␣␣␣␣␣␣␣␣␣␣␣␣␣␣␣␣␣␣␣␣␣␣␣␣␣␣␣␣␣␣␣␣␣␣␣␣␣␣␣␣␣␣␣␣␣␣␣␣␣␣␣␣␣␣␣␣␣␣␣␣␣␣␣␣␣␣␣␣␣␣␣␣␣␣␣␣␣␣␣␣␣␣␣␣␣␣␣␣␣␣␣␣␣␣␣␣␣␣␣␣␣␣␣␣␣␣␣␣␣␣␣␣␣␣␣␣␣␣␣␣␣␣␣␣␣␣␣␣␣␣␣␣␣␣␣␣␣␣␣␣␣␣␣␣␣␣␣␣␣␣␣␣␣␣␣␣␣␣␣␣␣␣␣␣␣␣␣␣␣␣␣␣␣␣␣␣␣␣␣␣␣␣␣␣␣␣␣␣␣␣␣␣␣␣␣␣␣␣␣␣␣␣␣␣␣␣␣␣␣␣␣␣␣␣␣␣␣␣␣␣␣␣␣␣␣␣␣␣␣␣␣␣␣␣␣␣␣␣␣␣␣␣␣␣␣␣␣␣␣␣␣␣␣␣␣␣␣␣␣␣␣␣␣␣␣␣␣␣␣␣␣␣␣␣␣␣␣␣␣␣␣␣␣␣␣␣␣␣␣␣␣␣␣␣␣␣␣␣␣␣␣␣␣␣␣␣␣␣␣␣␣␣␣␣␣␣␣␣␣␣␣␣␣␣␣␣␣␣␣␣␣␣␣␣␣␣␣␣␣␣␣␣␣␣␣␣␣␣␣␣␣␣␣␣␣␣␣␣␣␣␣␣␣␣␣␣␣␣␣␣␣␣␣␣␣␣␣␣␣␣␣␣␣␣␣␣␣␣␣␣␣␣␣␣␣␣␣␣␣␣␣␣␣␣␣␣␣␣␣␣␣␣␣␣␣␣␣␣␣␣␣␣␣␣␣␣␣␣␣␣␣␣␣␣␣␣␣␣␣␣␣␣␣␣␣␣␣␣␣␣␣␣␣␣␣␣␣␣␣␣␣␣␣␣␣␣␣␣␣␣␣␣␣␣␣␣␣␣␣␣\n",
      "\n",
      "\n",
      "\n",
      "Attempt: \"A\" + 0.4\n",
      "-----------------------------------\n",
      "📗 Awaninuts\n",
      "\n",
      "📝\n",
      "\n",
      "▪︎ preheat oven to 350 degrees f\n",
      "▪︎ heat oil in a large skillet\n",
      "▪︎ brown ground beef \n",
      "▪︎ cook onions \n",
      "▪︎ parsley \n",
      "▪︎ onion \n",
      "▪︎ garlic \n",
      "▪︎ onion \n",
      "▪︎ garlic \n",
      "▪︎ salt \n",
      "▪︎ pepper \n",
      "▪︎ and carrot \n",
      "▪︎ cook for another 5 minutes or until the sauce is thickened\n",
      "▪︎ stir in chocolate chips \n",
      "▪︎ and salt and pepper to taste\n",
      "▪︎ stir in the bacon\n",
      "▪︎ season with salt and pepper to taste\n",
      "▪︎ serve with fruit and sprinkle with remaining butter\n",
      "␣␣␣␣␣␣␣␣␣␣␣␣␣␣␣␣␣␣␣␣␣␣␣␣␣␣␣␣␣␣␣␣␣␣␣␣␣␣␣␣␣␣␣␣␣␣␣␣␣␣␣␣␣␣␣␣␣␣␣␣␣␣␣␣␣␣␣␣␣␣␣␣␣␣␣␣␣␣␣␣␣␣␣␣␣␣␣␣␣␣␣␣␣␣␣␣␣␣␣␣␣␣␣␣␣␣␣␣␣␣␣␣␣␣␣␣␣␣␣␣␣␣␣␣␣␣␣␣␣␣␣␣␣␣␣␣␣␣␣␣␣␣␣␣␣␣␣␣␣␣␣␣␣␣␣␣␣␣␣␣␣␣␣␣␣␣␣␣␣␣␣␣␣␣␣␣␣␣␣␣␣␣␣␣␣␣␣␣␣␣␣␣␣␣␣␣␣␣␣␣␣␣␣␣␣␣␣␣␣␣␣␣␣␣␣␣␣␣␣␣␣␣␣␣␣␣␣␣␣␣␣␣␣␣␣␣␣␣␣␣␣␣␣␣␣␣␣␣␣␣␣␣␣␣␣␣␣␣␣␣␣␣␣␣␣␣␣␣␣␣␣␣␣␣␣␣␣␣␣␣␣␣␣␣␣␣␣␣␣␣␣␣␣␣␣␣␣␣␣␣␣␣␣␣␣␣␣␣␣␣␣␣␣␣␣␣␣␣␣␣␣␣␣␣␣␣␣␣␣␣␣␣␣␣␣␣␣␣␣␣␣␣␣␣␣␣␣␣␣␣␣␣␣␣␣␣␣␣␣␣␣␣␣␣␣␣␣␣␣␣␣␣␣␣␣␣␣␣␣␣␣␣␣␣␣␣␣␣␣␣␣␣␣␣␣␣␣␣␣␣␣␣␣␣␣␣␣␣␣␣␣␣␣␣␣␣␣␣␣␣␣␣␣␣␣␣␣␣␣␣␣␣␣␣␣␣␣␣␣␣␣␣␣␣␣␣␣␣␣␣␣␣␣␣␣␣␣␣␣␣␣␣␣␣␣␣␣␣␣␣␣␣␣␣␣␣␣␣␣␣␣␣␣␣␣␣␣␣␣␣␣␣␣␣␣␣␣␣␣␣␣␣␣␣␣␣␣␣␣␣␣␣␣␣␣␣␣␣␣␣␣␣␣␣␣␣␣␣␣␣␣␣␣␣␣␣␣␣␣␣␣␣␣␣␣␣␣␣␣␣␣␣␣␣␣␣␣␣\n",
      "\n",
      "\n",
      "\n",
      "Attempt: \"A\" + 0.2\n",
      "-----------------------------------\n",
      "📗 A122 dis\n",
      "\n",
      "🥕\n",
      "\n",
      "▪︎ combine all ingredients in a bowl\n",
      "▪︎ add the cream cheese and stir to combine\n",
      "▪︎ stir in the chopped peas and cook until the chicken is tender\n",
      "▪︎ serve with a spoon to serve\n",
      "␣␣␣␣␣␣␣␣␣␣␣␣␣␣␣␣␣␣␣␣␣␣␣␣␣␣␣␣␣␣␣␣␣␣␣␣␣␣␣␣␣␣␣␣␣␣␣␣␣␣␣␣␣␣␣␣␣␣␣␣␣␣␣␣␣␣␣␣␣␣␣␣␣␣␣␣␣␣␣␣␣␣␣␣␣␣␣␣␣␣␣␣␣␣␣␣␣␣␣␣␣␣␣␣␣␣␣␣␣␣␣␣␣␣␣␣␣␣␣␣␣␣␣␣␣␣␣␣␣␣␣␣␣␣␣␣␣␣␣␣␣␣␣␣␣␣␣␣␣␣␣␣␣␣␣␣␣␣␣␣␣␣␣␣␣␣␣␣␣␣␣␣␣␣␣␣␣␣␣␣␣␣␣␣␣␣␣␣␣␣␣␣␣␣␣␣␣␣␣␣␣␣␣␣␣␣␣␣␣␣␣␣␣␣␣␣␣␣␣␣␣␣␣␣␣␣␣␣␣␣␣␣␣␣␣␣␣␣␣␣␣␣␣␣␣␣␣␣␣␣␣␣␣␣␣␣␣␣␣␣␣␣␣␣␣␣␣␣␣␣␣␣␣␣␣␣␣␣␣␣␣␣␣␣␣␣␣␣␣␣␣␣␣␣␣␣␣␣␣␣␣␣␣␣␣␣␣␣␣␣␣␣␣␣␣␣␣␣␣␣␣␣␣␣␣␣␣␣␣␣␣␣␣␣␣␣␣␣␣␣␣␣␣␣␣␣␣␣␣␣␣␣␣␣␣␣␣␣␣␣␣␣␣␣␣␣␣␣␣␣␣␣␣␣␣␣␣␣␣␣␣␣␣␣␣␣␣␣␣␣␣␣␣␣␣␣␣␣␣␣␣␣␣␣␣␣␣␣␣␣␣␣␣␣␣␣␣␣␣␣␣␣␣␣␣␣␣␣␣␣␣␣␣␣␣␣␣␣␣␣␣␣␣␣␣␣␣␣␣␣␣␣␣␣␣␣␣␣␣␣␣␣␣␣␣␣␣␣␣␣␣␣␣␣␣␣␣␣␣␣␣␣␣␣␣␣␣␣␣␣␣␣␣␣␣␣␣␣␣␣␣␣␣␣␣␣␣␣␣␣␣␣␣␣␣␣␣␣␣␣␣␣␣␣␣␣␣␣␣␣␣␣␣␣␣␣␣␣␣␣␣␣␣␣␣␣␣␣␣␣␣␣␣␣␣␣␣␣␣␣␣␣␣␣␣␣␣␣␣␣␣␣␣␣␣␣␣␣␣␣␣␣␣␣␣␣␣␣␣␣␣␣␣␣␣␣␣␣␣␣␣␣␣␣␣␣␣␣␣␣␣␣␣␣␣␣␣␣␣␣␣␣␣␣␣␣␣␣␣␣␣␣␣␣␣␣␣␣␣␣␣␣␣␣␣␣␣␣␣␣␣␣␣␣␣␣␣␣␣␣␣␣␣␣␣␣␣␣␣␣␣␣␣␣␣␣␣␣␣␣␣␣␣␣␣␣␣␣␣␣␣␣␣␣␣␣␣␣␣␣␣␣␣␣␣␣␣␣␣␣␣␣␣␣␣␣␣␣␣␣␣␣␣␣␣␣␣␣␣␣␣␣␣␣␣␣␣␣␣␣␣␣␣␣␣␣␣␣␣␣␣␣␣␣␣␣␣␣␣␣␣␣␣␣␣␣␣␣␣␣␣␣␣␣␣␣␣␣␣␣␣␣␣␣␣␣␣␣␣␣␣␣␣␣␣␣␣␣␣␣␣␣␣␣␣␣␣␣␣␣␣\n",
      "\n",
      "\n",
      "\n",
      "Attempt: \"B\" + 1.0\n",
      "-----------------------------------\n",
      "📗 Bjuice cookies\n",
      "\n",
      "🥕\n",
      "\n",
      "• butter\n",
      "• eggs\n",
      "• shulk wine vinegar\n",
      "• egg\n",
      "• olive oil\n",
      "• semi-sweet peas\n",
      "• chocolate sauce\n",
      "• frozen chopped pickling salt\n",
      "\n",
      "📝\n",
      "\n",
      "▪︎ place bread fuffining pieces\n",
      "▪︎ in a small bowl \n",
      "▪︎ combine butter in large pie pan \n",
      "▪︎ alternately away from pan\n",
      "▪︎ cover with laffle mixture in each prepare\n",
      "▪︎ remove from then sides and serve immediately\n",
      "▪︎ mix the soup in the bruscheets with nonstick cooking spray\n",
      "▪︎ microwave for 12 minutes or until softened\n",
      "▪︎ dein your meat\n",
      "␣␣␣␣␣␣␣␣␣␣␣␣␣␣␣␣␣␣␣␣␣␣␣␣␣␣␣␣␣␣␣␣␣␣␣␣␣␣␣␣␣␣␣␣␣␣␣␣␣␣␣␣␣␣␣␣␣␣␣␣␣␣␣␣␣␣␣␣␣␣␣␣␣␣␣␣␣␣␣␣␣␣␣␣␣␣␣␣␣␣␣␣␣␣␣␣␣␣␣␣␣␣␣␣␣␣␣␣␣␣␣␣␣␣␣␣␣␣␣␣␣␣␣␣␣␣␣␣␣␣␣␣␣␣␣␣␣␣␣␣␣␣␣␣␣␣␣␣␣␣␣␣␣␣␣␣␣␣␣␣␣␣␣␣␣␣␣␣␣␣␣␣␣␣␣␣␣␣␣␣␣␣␣␣␣␣␣␣␣␣␣␣␣␣␣␣␣␣␣␣␣␣␣␣␣␣␣␣␣␣␣␣␣␣␣␣␣␣␣␣␣␣␣␣␣␣␣␣␣␣␣␣␣␣␣␣␣␣␣␣␣␣␣␣␣␣␣␣␣␣␣␣␣␣␣␣␣␣␣␣␣␣␣␣␣␣␣␣␣␣␣␣␣␣␣␣␣␣␣␣␣␣␣␣␣␣␣␣␣␣␣␣␣␣␣␣␣␣␣␣␣␣␣␣␣␣␣␣␣␣␣␣␣␣␣␣␣␣␣␣␣␣␣␣␣␣␣␣␣␣␣␣␣␣␣␣␣␣␣␣␣␣␣␣␣␣␣␣␣␣␣␣␣␣␣␣␣␣␣␣␣␣␣␣␣␣␣␣␣␣␣␣␣␣␣␣␣␣␣␣␣␣␣␣␣␣␣␣␣␣␣␣␣␣␣␣␣␣␣␣␣␣␣␣␣␣␣␣␣␣␣␣␣␣␣␣␣␣␣␣␣␣␣␣␣␣␣␣␣␣␣␣␣␣␣␣␣␣␣␣␣␣␣␣␣␣␣␣␣␣␣␣␣␣␣␣␣␣␣␣␣␣␣␣␣␣␣␣␣␣␣␣␣␣␣␣␣␣␣␣␣␣␣␣␣␣␣␣␣␣␣␣␣␣␣␣␣␣␣␣␣␣␣␣␣␣␣␣␣␣␣␣␣␣␣␣␣␣␣␣\n",
      "\n",
      "\n",
      "\n",
      "Attempt: \"B\" + 0.8\n",
      "-----------------------------------\n",
      "📗 B/ butter\n",
      "▪︎ add the cream cheese \n",
      "▪︎ a can of salt and pepper flakes\n",
      "▪︎ stir to bean sizzly\n",
      "▪︎ mix well\n",
      "▪︎ serve stands or cilantro or less that the pizza sauce to small 1-1 / 2 inch thick\n",
      "▪︎ combine salsa and seeds of sour cream to thickens\n",
      "␣␣␣␣␣␣␣␣␣␣␣␣␣␣␣␣␣␣␣␣␣␣␣␣␣␣␣␣␣␣␣␣␣␣␣␣␣␣␣␣␣␣␣␣␣␣␣␣␣␣␣␣␣␣␣␣␣␣␣␣␣␣␣␣␣␣␣␣␣␣␣␣␣␣␣␣␣␣␣␣␣␣␣␣␣␣␣␣␣␣␣␣␣␣␣␣␣␣␣␣␣␣␣␣␣␣␣␣␣␣␣␣␣␣␣␣␣␣␣␣␣␣␣␣␣␣␣␣␣␣␣␣␣␣␣␣␣␣␣␣␣␣␣␣␣␣␣␣␣␣␣␣␣␣␣␣␣␣␣␣␣␣␣␣␣␣␣␣␣␣␣␣␣␣␣␣␣␣␣␣␣␣␣␣␣␣␣␣␣␣␣␣␣␣␣␣␣␣␣␣␣␣␣␣␣␣␣␣␣␣␣␣␣␣␣␣␣␣␣␣␣␣␣␣␣␣␣␣␣␣␣␣␣␣␣␣␣␣␣␣␣␣␣␣␣␣␣␣␣␣␣␣␣␣␣␣␣␣␣␣␣␣␣␣␣␣␣␣␣␣␣␣␣␣␣␣␣␣␣␣␣␣␣␣␣␣␣␣␣␣␣␣␣␣␣␣␣␣␣␣␣␣␣␣␣␣␣␣␣␣␣␣␣␣␣␣␣␣␣␣␣␣␣␣␣␣␣␣␣␣␣␣␣␣␣␣␣␣␣␣␣␣␣␣␣␣␣␣␣␣␣␣␣␣␣␣␣␣␣␣␣␣␣␣␣␣␣␣␣␣␣␣␣␣␣␣␣␣␣␣␣␣␣␣␣␣␣␣␣␣␣␣␣␣␣␣␣␣␣␣␣␣␣␣␣␣␣␣␣␣␣␣␣␣␣␣␣␣␣␣␣␣␣␣␣␣␣␣␣␣␣␣␣␣␣␣␣␣␣␣␣␣␣␣␣␣␣␣␣␣␣␣␣␣␣␣␣␣␣␣␣␣␣␣␣␣␣␣␣␣␣␣␣␣␣␣␣␣␣␣␣␣␣␣␣␣␣␣␣␣␣␣␣␣␣␣␣␣␣␣␣␣␣␣␣␣␣␣␣␣␣␣␣␣␣␣␣␣␣␣␣␣␣␣␣␣␣␣␣␣␣␣␣␣␣␣␣␣␣␣␣␣␣␣␣␣␣␣␣␣␣␣␣␣␣␣␣␣␣␣␣␣␣␣␣␣␣␣␣␣␣␣␣␣␣␣␣␣␣␣␣␣␣␣␣␣␣␣␣␣␣␣␣␣␣␣␣␣␣␣␣␣␣␣␣␣␣␣␣␣␣␣␣␣␣␣␣␣␣␣␣␣␣␣␣␣␣␣␣␣␣␣␣␣␣␣␣␣␣␣␣␣␣␣␣␣␣␣␣␣␣␣␣␣␣␣␣␣␣␣␣␣␣␣␣␣␣␣␣␣␣␣␣␣␣␣␣␣␣␣␣␣␣␣␣␣␣␣␣␣␣␣␣␣␣␣␣␣␣␣␣␣␣␣␣␣␣␣␣␣␣␣␣␣␣␣␣␣␣␣␣␣␣␣␣␣␣␣␣␣␣␣␣␣␣␣␣␣␣␣␣␣␣␣␣␣␣␣␣␣␣␣␣␣␣␣␣␣\n",
      "\n",
      "\n",
      "\n",
      "Attempt: \"B\" + 0.4\n",
      "-----------------------------------\n",
      "📗 Bbuster food cookies\n",
      "\n",
      "🥕\n",
      "\n",
      "• bananas\n",
      "• flour\n",
      "• baking powder\n",
      "• salt\n",
      "• baking soda\n",
      "• salt\n",
      "• baking powder\n",
      "• salt\n",
      "• baking powder\n",
      "• salt\n",
      "• pepper\n",
      "• bananas\n",
      "• milk\n",
      "• sugar\n",
      "\n",
      "📝\n",
      "\n",
      "▪︎ preheat oven to 400 degrees\n",
      "▪︎ bring to a boil\n",
      "▪︎ beat until smooth\n",
      "▪︎ stir in chocolate chips\n",
      "▪︎ beat the egg whites until mixture is smooth and smooth\n",
      "▪︎ pour into a greased bowl and stir to coat with a fork\n",
      "▪︎ in a small saucepan \n",
      "▪︎ combine the dry ingredients and bring to a boil and simmer for 20 minutes\n",
      "▪︎ stir in the chocolate chips\n",
      "▪︎ stir in the chocolate chips and continue to stir until the sugar dissolved\n",
      "▪︎ serve with fresh parsley\n",
      "␣␣␣␣␣␣␣␣␣␣␣␣␣␣␣␣␣␣␣␣␣␣␣␣␣␣␣␣␣␣␣␣␣␣␣␣␣␣␣␣␣␣␣␣␣␣␣␣␣␣␣␣␣␣␣␣␣␣␣␣␣␣␣␣␣␣␣␣␣␣␣␣␣␣␣␣␣␣␣␣␣␣␣␣␣␣␣␣␣␣␣␣␣␣␣␣␣␣␣␣␣␣␣␣␣␣␣␣␣␣␣␣␣␣␣␣␣␣␣␣␣␣␣␣␣␣␣␣␣␣␣␣␣␣␣␣␣␣␣␣␣␣␣␣␣␣␣␣␣␣␣␣␣␣␣␣␣␣␣␣␣␣␣␣␣␣␣␣␣␣␣␣␣␣␣␣␣␣␣␣␣␣␣␣␣␣␣␣␣␣␣␣␣␣␣␣␣␣␣␣␣␣␣␣␣␣␣␣␣␣␣␣␣␣␣␣␣␣␣␣␣␣␣␣␣␣␣␣␣␣␣␣␣␣␣␣␣␣␣␣␣␣␣␣␣␣␣␣␣␣␣␣␣␣␣␣␣␣␣␣␣␣␣␣␣␣␣␣␣␣␣␣␣␣␣␣␣␣␣␣␣␣␣␣␣␣␣␣␣␣␣␣␣␣␣␣␣␣␣␣␣␣␣␣␣␣␣␣␣␣␣␣␣␣␣␣␣␣␣␣␣␣␣␣␣␣␣␣␣␣␣␣␣␣␣␣␣␣␣␣␣␣␣␣␣␣␣␣␣␣␣␣␣␣␣␣␣␣␣␣␣␣␣␣␣␣␣␣␣␣␣␣␣␣␣␣␣␣␣\n",
      "\n",
      "\n",
      "\n",
      "Attempt: \"B\" + 0.2\n",
      "-----------------------------------\n",
      "📗 B55 minutes\n",
      "\n",
      "📝\n",
      "\n",
      "▪︎ preheat oven to 350 degrees\n",
      "▪︎ grease a 9x13 pan with paper lined baking sheet\n",
      "▪︎ bake at 350 degrees for 45 minutes or until chicken is cooked through and set aside\n",
      "▪︎ serve with salt and pepper and serve\n",
      "␣␣␣␣␣␣␣␣␣␣␣␣␣␣␣␣␣␣␣␣␣␣␣␣␣␣␣␣␣␣␣␣␣␣␣␣␣␣␣␣␣␣␣␣␣␣␣␣␣␣␣␣␣␣␣␣␣␣␣␣␣␣␣␣␣␣␣␣␣␣␣␣␣␣␣␣␣␣␣␣␣␣␣␣␣␣␣␣␣␣␣␣␣␣␣␣␣␣␣␣␣␣␣␣␣␣␣␣␣␣␣␣␣␣␣␣␣␣␣␣␣␣␣␣␣␣␣␣␣␣␣␣␣␣␣␣␣␣␣␣␣␣␣␣␣␣␣␣␣␣␣␣␣␣␣␣␣␣␣␣␣␣␣␣␣␣␣␣␣␣␣␣␣␣␣␣␣␣␣␣␣␣␣␣␣␣␣␣␣␣␣␣␣␣␣␣␣␣␣␣␣␣␣␣␣␣␣␣␣␣␣␣␣␣␣␣␣␣␣␣␣␣␣␣␣␣␣␣␣␣␣␣␣␣␣␣␣␣␣␣␣␣␣␣␣␣␣␣␣␣␣␣␣␣␣␣␣␣␣␣␣␣␣␣␣␣␣␣␣␣␣␣␣␣␣␣␣␣␣␣␣␣␣␣␣␣␣␣␣␣␣␣␣␣␣␣␣␣␣␣␣␣␣␣␣␣␣␣␣␣␣␣␣␣␣␣␣␣␣␣␣␣␣␣␣␣␣␣␣␣␣␣␣␣␣␣␣␣␣␣␣␣␣␣␣␣␣␣␣␣␣␣␣␣␣␣␣␣␣␣␣␣␣␣␣␣␣␣␣␣␣␣␣␣␣␣␣␣␣␣␣␣␣␣␣␣␣␣␣␣␣␣␣␣␣␣␣␣␣␣␣␣␣␣␣␣␣␣␣␣␣␣␣␣␣␣␣␣␣␣␣␣␣␣␣␣␣␣␣␣␣␣␣␣␣␣␣␣␣␣␣␣␣␣␣␣␣␣␣␣␣␣␣␣␣␣␣␣␣␣␣␣␣␣␣␣␣␣␣␣␣␣␣␣␣␣␣␣␣␣␣␣␣␣␣␣␣␣␣␣␣␣␣␣␣␣␣␣␣␣␣␣␣␣␣␣␣␣␣␣␣␣␣␣␣␣␣␣␣␣␣␣␣␣␣␣␣␣␣␣␣␣␣␣␣␣␣␣␣␣␣␣␣␣␣␣␣␣␣␣␣␣␣␣␣␣␣␣␣␣␣␣␣␣␣␣␣␣␣␣␣␣␣␣␣␣␣␣␣␣␣␣␣␣␣␣␣␣␣␣␣␣␣␣␣␣␣␣␣␣␣␣␣␣␣␣␣␣␣␣␣␣␣␣␣␣␣␣␣␣␣␣␣␣␣␣␣␣␣␣␣␣␣␣␣␣␣␣␣␣␣␣␣␣␣␣␣␣␣␣␣␣␣␣␣␣␣␣␣␣␣␣␣␣␣␣␣␣␣␣␣␣␣␣␣␣␣␣␣␣␣␣␣␣␣␣␣␣␣␣␣␣␣␣␣␣␣␣␣␣␣␣␣␣␣␣␣␣␣␣␣␣␣␣␣␣␣␣␣␣␣␣␣␣␣␣␣␣␣␣␣␣␣␣␣␣␣␣␣␣␣␣␣␣␣␣␣␣␣␣␣␣␣␣␣␣␣␣␣␣␣␣␣␣␣␣␣␣␣␣␣␣␣␣␣␣\n",
      "\n",
      "\n",
      "\n"
     ]
    },
    {
     "name": "stdout",
     "output_type": "stream",
     "text": [
      "Attempt: \"C\" + 1.0\n",
      "-----------------------------------\n",
      "📗 C350 / 4 1 / 2 cordities for 20 seconds\n",
      "␣␣␣␣␣␣␣␣␣␣␣␣␣␣␣␣␣␣␣␣␣␣␣␣␣␣␣␣␣␣␣␣␣␣␣␣␣␣␣␣␣␣␣␣␣␣␣␣␣␣␣␣␣␣␣␣␣␣␣␣␣␣␣␣␣␣␣␣␣␣␣␣␣␣␣␣␣␣␣␣␣␣␣␣␣␣␣␣␣␣␣␣␣␣␣␣␣␣␣␣␣␣␣␣␣␣␣␣␣␣␣␣␣␣␣␣␣␣␣␣␣␣␣␣␣␣␣␣␣␣␣␣␣␣␣␣␣␣␣␣␣␣␣␣␣␣␣␣␣␣␣␣␣␣␣␣␣␣␣␣␣␣␣␣␣␣␣␣␣␣␣␣␣␣␣␣␣␣␣␣␣␣␣␣␣␣␣␣␣␣␣␣␣␣␣␣␣␣␣␣␣␣␣␣␣␣␣␣␣␣␣␣␣␣␣␣␣␣␣␣␣␣␣␣␣␣␣␣␣␣␣␣␣␣␣␣␣␣␣␣␣␣␣␣␣␣␣␣␣␣␣␣␣␣␣␣␣␣␣␣␣␣␣␣␣␣␣␣␣␣␣␣␣␣␣␣␣␣␣␣␣␣␣␣␣␣␣␣␣␣␣␣␣␣␣␣␣␣␣␣␣␣␣␣␣␣␣␣␣␣␣␣␣␣␣␣␣␣␣␣␣␣␣␣␣␣␣␣␣␣␣␣␣␣␣␣␣␣␣␣␣␣␣␣␣␣␣␣␣␣␣␣␣␣␣␣␣␣␣␣␣␣␣␣␣␣␣␣␣␣␣␣␣␣␣␣␣␣␣␣␣␣␣␣␣␣␣␣␣␣␣␣␣␣␣␣␣␣␣␣␣␣␣␣␣␣␣␣␣␣␣␣␣␣␣␣␣␣␣␣␣␣␣␣␣␣␣␣␣␣␣␣␣␣␣␣␣␣␣␣␣␣␣␣␣␣␣␣␣␣␣␣␣␣␣␣␣␣␣␣␣␣␣␣␣␣␣␣␣␣␣␣␣␣␣␣␣␣␣␣␣␣␣␣␣␣␣␣␣␣␣␣␣␣␣␣␣␣␣␣␣␣␣␣␣␣␣␣␣␣␣␣␣␣␣␣␣␣␣␣␣␣␣␣␣␣␣␣␣␣␣␣␣␣␣␣␣␣␣␣␣␣␣␣␣␣␣␣␣␣␣␣␣␣␣␣␣␣␣␣␣␣␣␣␣␣␣␣␣␣␣␣␣␣␣␣␣␣␣␣␣␣␣␣␣␣␣␣␣␣␣␣␣␣␣␣␣␣␣␣␣␣␣␣␣␣␣␣␣␣␣␣␣␣␣␣␣␣␣␣␣␣␣␣␣␣␣␣␣␣␣␣␣␣␣␣␣␣␣␣␣␣␣␣␣␣␣␣␣␣␣␣␣␣␣␣␣␣␣␣␣␣␣␣␣␣␣␣␣␣␣␣␣␣␣␣␣␣␣␣␣␣␣␣␣␣␣␣␣␣␣␣␣␣␣␣␣␣␣␣␣␣␣␣␣␣␣␣␣␣␣␣␣␣␣␣␣␣␣␣␣␣␣␣␣␣␣␣␣␣␣␣␣␣␣␣␣␣␣␣␣␣␣␣␣␣␣␣␣␣␣␣␣␣␣␣␣␣␣␣␣␣␣␣␣␣␣␣␣␣␣␣␣␣␣␣␣␣␣␣␣␣␣␣␣␣␣␣␣␣␣␣␣␣␣␣␣␣␣␣␣␣␣␣␣␣␣␣␣␣␣␣␣␣␣␣␣␣␣␣␣␣␣␣␣␣␣␣␣␣␣␣␣␣␣␣␣␣␣␣␣␣␣␣␣␣␣␣␣␣␣␣␣␣␣␣␣␣␣␣␣␣␣␣␣␣␣␣␣␣␣␣␣␣␣␣␣␣␣␣␣␣␣␣␣␣␣␣␣␣␣␣␣␣␣␣␣␣␣␣␣␣␣␣␣␣␣␣␣␣␣␣␣␣␣␣␣␣␣␣␣␣␣␣␣␣␣␣␣␣␣␣␣␣␣␣␣␣␣␣␣␣␣␣␣␣␣␣␣␣␣␣␣␣␣␣␣␣␣␣␣\n",
      "\n",
      "\n",
      "\n",
      "Attempt: \"C\" + 0.8\n",
      "-----------------------------------\n",
      "📗 Cbulsame will sauce\n",
      "\n",
      "🥕\n",
      "\n",
      "• flour\n",
      "• butter\n",
      "• milk\n",
      "• egg\n",
      "• baking powder\n",
      "• salt\n",
      "• white pepper\n",
      "• oil\n",
      "\n",
      "📝\n",
      "\n",
      "▪︎ preheat oven to 350f dish \n",
      "▪︎ and rub onion mushrooms into a baking dish and bake for 40 minutes or until golden\n",
      "␣␣␣␣␣␣␣␣␣␣␣␣␣␣␣␣␣␣␣␣␣␣␣␣␣␣␣␣␣␣␣␣␣␣␣␣␣␣␣␣␣␣␣␣␣␣␣␣␣␣␣␣␣␣␣␣␣␣␣␣␣␣␣␣␣␣␣␣␣␣␣␣␣␣␣␣␣␣␣␣␣␣␣␣␣␣␣␣␣␣␣␣␣␣␣␣␣␣␣␣␣␣␣␣␣␣␣␣␣␣␣␣␣␣␣␣␣␣␣␣␣␣␣␣␣␣␣␣␣␣␣␣␣␣␣␣␣␣␣␣␣␣␣␣␣␣␣␣␣␣␣␣␣␣␣␣␣␣␣␣␣␣␣␣␣␣␣␣␣␣␣␣␣␣␣␣␣␣␣␣␣␣␣␣␣␣␣␣␣␣␣␣␣␣␣␣␣␣␣␣␣␣␣␣␣␣␣␣␣␣␣␣␣␣␣␣␣␣␣␣␣␣␣␣␣␣␣␣␣␣␣␣␣␣␣␣␣␣␣␣␣␣␣␣␣␣␣␣␣␣␣␣␣␣␣␣␣␣␣␣␣␣␣␣␣␣␣␣␣␣␣␣␣␣␣␣␣␣␣␣␣␣␣␣␣␣␣␣␣␣␣␣␣␣␣␣␣␣␣␣␣␣␣␣␣␣␣␣␣␣␣␣␣␣␣␣␣␣␣␣␣␣␣␣␣␣␣␣␣␣␣␣␣␣␣␣␣␣␣␣␣␣␣␣␣␣␣␣␣␣␣␣␣␣␣␣␣␣␣␣␣␣␣␣␣␣␣␣␣␣␣␣␣␣␣␣␣␣␣␣␣␣␣␣␣␣␣␣␣␣␣␣␣␣␣␣␣␣␣␣␣␣␣␣␣␣␣␣␣␣␣␣␣␣␣␣␣␣␣␣␣␣␣␣␣␣␣␣␣␣␣␣␣␣␣␣␣␣␣␣␣␣␣␣␣␣␣␣␣␣␣␣␣␣␣␣␣␣␣␣␣␣␣␣␣␣␣␣␣␣␣␣␣␣␣␣␣␣␣␣␣␣␣␣␣␣␣␣␣␣␣␣␣␣␣␣␣␣␣␣␣␣␣␣␣␣␣␣␣␣␣␣␣␣␣␣␣␣␣␣␣␣␣␣␣␣␣␣␣␣␣␣␣␣␣␣␣␣␣␣␣␣␣␣␣␣␣␣␣␣␣␣␣␣␣␣␣␣␣␣␣␣␣␣␣␣␣␣␣␣␣␣␣␣␣␣␣␣␣␣␣␣␣␣␣␣␣␣␣␣␣␣␣␣␣␣␣␣␣␣␣␣␣␣␣␣␣␣␣␣␣␣␣␣␣␣␣␣␣␣␣␣␣␣␣␣␣␣␣␣␣␣␣␣␣␣␣␣␣␣␣␣␣␣␣␣␣␣␣␣␣␣␣␣␣␣␣␣␣␣␣␣␣␣␣␣␣␣␣␣␣␣␣␣␣␣␣␣␣␣␣␣␣␣␣␣␣␣␣␣␣␣␣␣␣␣␣␣␣␣␣␣␣␣␣␣␣␣␣␣␣␣␣␣␣␣␣␣␣␣␣␣␣␣␣␣␣␣␣␣␣␣␣␣␣␣␣␣␣␣␣␣␣␣␣␣␣␣␣␣␣␣␣␣␣␣␣␣␣␣␣␣␣␣␣␣␣␣␣␣␣␣␣␣␣␣␣␣␣␣␣␣␣\n",
      "\n",
      "\n",
      "\n",
      "Attempt: \"C\" + 0.4\n",
      "-----------------------------------\n",
      "📗 C125 pan\n",
      "▪︎ spray a large bowl of cake pie shell \n",
      "▪︎ put in a baking sheet and bake at 350 degrees for 25 minutes\n",
      "▪︎ serve with bacon from the beef and a spoon to taste\n",
      "␣␣␣␣␣␣␣␣␣␣␣␣␣␣␣␣␣␣␣␣␣␣␣␣␣␣␣␣␣␣␣␣␣␣␣␣␣␣␣␣␣␣␣␣␣␣␣␣␣␣␣␣␣␣␣␣␣␣␣␣␣␣␣␣␣␣␣␣␣␣␣␣␣␣␣␣␣␣␣␣␣␣␣␣␣␣␣␣␣␣␣␣␣␣␣␣␣␣␣␣␣␣␣␣␣␣␣␣␣␣␣␣␣␣␣␣␣␣␣␣␣␣␣␣␣␣␣␣␣␣␣␣␣␣␣␣␣␣␣␣␣␣␣␣␣␣␣␣␣␣␣␣␣␣␣␣␣␣␣␣␣␣␣␣␣␣␣␣␣␣␣␣␣␣␣␣␣␣␣␣␣␣␣␣␣␣␣␣␣␣␣␣␣␣␣␣␣␣␣␣␣␣␣␣␣␣␣␣␣␣␣␣␣␣␣␣␣␣␣␣␣␣␣␣␣␣␣␣␣␣␣␣␣␣␣␣␣␣␣␣␣␣␣␣␣␣␣␣␣␣␣␣␣␣␣␣␣␣␣␣␣␣␣␣␣␣␣␣␣␣␣␣␣␣␣␣␣␣␣␣␣␣␣␣␣␣␣␣␣␣␣␣␣␣␣␣␣␣␣␣␣␣␣␣␣␣␣␣␣␣␣␣␣␣␣␣␣␣␣␣␣␣␣␣␣␣␣␣␣␣␣␣␣␣␣␣␣␣␣␣␣␣␣␣␣␣␣␣␣␣␣␣␣␣␣␣␣␣␣␣␣␣␣␣␣␣␣␣␣␣␣␣␣␣␣␣␣␣␣␣␣␣␣␣␣␣␣␣␣␣␣␣␣␣␣␣␣␣␣␣␣␣␣␣␣␣␣␣␣␣␣␣␣␣␣␣␣␣␣␣␣␣␣␣␣␣␣␣␣␣␣␣␣␣␣␣␣␣␣␣␣␣␣␣␣␣␣␣␣␣␣␣␣␣␣␣␣␣␣␣␣␣␣␣␣␣␣␣␣␣␣␣␣␣␣␣␣␣␣␣␣␣␣␣␣␣␣␣␣␣␣␣␣␣␣␣␣␣␣␣␣␣␣␣␣␣␣␣␣␣␣␣␣␣␣␣␣␣␣␣␣␣␣␣␣␣␣␣␣␣␣␣␣␣␣␣␣␣␣␣␣␣␣␣␣␣␣␣␣␣␣␣␣␣␣␣␣␣␣␣␣␣␣␣␣␣␣␣␣␣␣␣␣␣␣␣␣␣␣␣␣␣␣␣␣␣␣␣␣␣␣␣␣␣␣␣␣␣␣␣␣␣␣␣␣␣␣␣␣␣␣␣␣␣␣␣␣␣␣␣␣␣␣␣␣␣␣␣␣␣␣␣␣␣␣␣␣␣␣␣␣␣␣␣␣␣␣␣␣␣␣␣␣␣␣␣␣␣␣␣␣␣␣␣␣␣␣␣␣␣␣␣␣␣␣␣␣␣␣␣␣␣␣␣␣␣␣␣␣␣␣␣␣␣␣␣␣␣␣␣␣␣␣␣␣␣␣␣␣␣␣␣␣␣␣␣␣␣␣␣␣␣␣␣␣␣␣␣␣␣␣␣␣␣␣␣␣␣␣␣␣␣␣␣␣␣␣␣␣␣␣␣␣␣␣␣␣␣␣␣␣␣␣␣␣␣␣␣␣␣␣␣␣␣␣␣␣␣␣␣␣␣␣␣␣␣␣␣␣␣␣␣␣␣␣␣␣␣␣␣␣␣␣␣␣␣␣␣␣␣␣␣␣␣␣␣␣␣␣␣␣␣␣␣␣␣␣␣␣␣␣␣\n",
      "\n",
      "\n",
      "\n",
      "Attempt: \"C\" + 0.2\n",
      "-----------------------------------\n",
      "📗 C125 degrees for about 2 minutes or until set\n",
      "▪︎ cool completely on top of the soup of broiler for a few minutes or until the cheese is melted\n",
      "␣␣␣␣␣␣␣␣␣␣␣␣␣␣␣␣␣␣␣␣␣␣␣␣␣␣␣␣␣␣␣␣␣␣␣␣␣␣␣␣␣␣␣␣␣␣␣␣␣␣␣␣␣␣␣␣␣␣␣␣␣␣␣␣␣␣␣␣␣␣␣␣␣␣␣␣␣␣␣␣␣␣␣␣␣␣␣␣␣␣␣␣␣␣␣␣␣␣␣␣␣␣␣␣␣␣␣␣␣␣␣␣␣␣␣␣␣␣␣␣␣␣␣␣␣␣␣␣␣␣␣␣␣␣␣␣␣␣␣␣␣␣␣␣␣␣␣␣␣␣␣␣␣␣␣␣␣␣␣␣␣␣␣␣␣␣␣␣␣␣␣␣␣␣␣␣␣␣␣␣␣␣␣␣␣␣␣␣␣␣␣␣␣␣␣␣␣␣␣␣␣␣␣␣␣␣␣␣␣␣␣␣␣␣␣␣␣␣␣␣␣␣␣␣␣␣␣␣␣␣␣␣␣␣␣␣␣␣␣␣␣␣␣␣␣␣␣␣␣␣␣␣␣␣␣␣␣␣␣␣␣␣␣␣␣␣␣␣␣␣␣␣␣␣␣␣␣␣␣␣␣␣␣␣␣␣␣␣␣␣␣␣␣␣␣␣␣␣␣␣␣␣␣␣␣␣␣␣␣␣␣␣␣␣␣␣␣␣␣␣␣␣␣␣␣␣␣␣␣␣␣␣␣␣␣␣␣␣␣␣␣␣␣␣␣␣␣␣␣␣␣␣␣␣␣␣␣␣␣␣␣␣␣␣␣␣␣␣␣␣␣␣␣␣␣␣␣␣␣␣␣␣␣␣␣␣␣␣␣␣␣␣␣␣␣␣␣␣␣␣␣␣␣␣␣␣␣␣␣␣␣␣␣␣␣␣␣␣␣␣␣␣␣␣␣␣␣␣␣␣␣␣␣␣␣␣␣␣␣␣␣␣␣␣␣␣␣␣␣␣␣␣␣␣␣␣␣␣␣␣␣␣␣␣␣␣␣␣␣␣␣␣␣␣␣␣␣␣␣␣␣␣␣␣␣␣␣␣␣␣␣␣␣␣␣␣␣␣␣␣␣␣␣␣␣␣␣␣␣␣␣␣␣␣␣␣␣␣␣␣␣␣␣␣␣␣␣␣␣␣␣␣␣␣␣␣␣␣␣␣␣␣␣␣␣␣␣␣␣␣␣␣␣␣␣␣␣␣␣␣␣␣␣␣␣␣␣␣␣␣␣␣␣␣␣␣␣␣␣␣␣␣␣␣␣␣␣␣␣␣␣␣␣␣␣␣␣␣␣␣␣␣␣␣␣␣␣␣␣␣␣␣␣␣␣␣␣␣␣␣␣␣␣␣␣␣␣␣␣␣␣␣␣␣␣␣␣␣␣␣␣␣␣␣␣␣␣␣␣␣␣␣␣␣␣␣␣␣␣␣␣␣␣␣␣␣␣␣␣␣␣␣␣␣␣␣␣␣␣␣␣␣␣␣␣␣␣␣␣␣␣␣␣␣␣␣␣␣␣␣␣␣␣␣␣␣␣␣␣␣␣␣␣␣␣␣␣␣␣␣␣␣␣␣␣␣␣␣␣␣␣␣␣␣␣␣␣␣␣␣␣␣␣␣␣␣␣␣␣␣␣␣␣␣␣␣␣␣␣␣␣␣␣␣␣␣␣␣␣␣␣␣␣␣␣␣␣␣␣␣␣␣␣␣␣␣␣␣␣␣␣␣␣␣␣␣␣␣␣␣␣␣␣␣␣␣␣␣␣␣␣␣␣␣␣␣␣␣␣␣␣␣␣␣␣␣␣␣␣␣␣␣␣␣␣␣␣␣␣␣␣␣␣␣␣␣␣␣␣␣␣␣␣␣␣␣␣␣\n",
      "\n",
      "\n",
      "\n"
     ]
    }
   ],
   "source": [
    "generate_combinations(model_simplified)"
   ]
  },
  {
   "cell_type": "code",
   "execution_count": null,
   "metadata": {},
   "outputs": [],
   "source": []
  }
 ],
 "metadata": {
  "kernelspec": {
   "display_name": "Python 3",
   "language": "python",
   "name": "python3"
  },
  "language_info": {
   "codemirror_mode": {
    "name": "ipython",
    "version": 3
   },
   "file_extension": ".py",
   "mimetype": "text/x-python",
   "name": "python",
   "nbconvert_exporter": "python",
   "pygments_lexer": "ipython3",
   "version": "3.8.5"
  }
 },
 "nbformat": 4,
 "nbformat_minor": 4
}
